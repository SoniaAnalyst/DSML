{
 "cells": [
  {
   "cell_type": "markdown",
   "metadata": {
    "id": "nOQlVHhdPRSo"
   },
   "source": [
    "## Problem Statement \n",
    "\n",
    "A company in Chicago provides office supplies to several global companies and small businesses. The sales department handles an inventory to keep the track of all the orders (ID of the customer, shipping cost, profit and so on). The last year inventory contains various items like telephone, pen, paper, computer accessories. This data can be more insightful if all the products can be divided into different groups based on certain criteria; for eg. whether the product is a machine or a furnishing item or a stationary item. Clustering algorithms can be used to group inventory items that provide more insight into the business."
   ]
  },
  {
   "cell_type": "markdown",
   "metadata": {
    "id": "L0ORjq6qY2Tm"
   },
   "source": [
    "##  Data Definition (Purchase data)\n",
    "\n",
    "Here's a brief version of what you'll find in the data\n",
    "\n",
    "\n",
    "**Products:**: Name of the product\n",
    "\n",
    "**Prod_id**: Unique ID of the product\n",
    "\n",
    "**Cust_id**: Unique ID of the customer\n",
    "\n",
    "**Sales**: Total sales of the order\n",
    "\n",
    "**Order_Quan**:\tNumber of products \n",
    "\n",
    "**Profit**:\tProfit gained on the order (negative value indicates the loss)\n",
    "\n",
    "**Shipping_Cost**: Cost of shipment for the order\n",
    "\n",
    "**Product_Base_Margin**: Base margin for the product\n",
    "\n",
    "**Customer_Segment**: Type of customer (Home office/ Corporate/ Small business)"
   ]
  },
  {
   "cell_type": "markdown",
   "metadata": {
    "id": "AGqAyUcQ12-m"
   },
   "source": [
    "## Contents\n",
    "\n",
    "1. **[Import Libraries](#import_lib)**\n",
    "2. **[Data Preparation](#prep)**\n",
    "    - 2.1 - [Understand the Data](#read)\n",
    "    - 2.2 - [Check the Data Type](#dtype)\n",
    "    - 2.3 - [Remove Insignificant Variables](#drop)\n",
    "    - 2.4 - [Outlier Analysis and Treatment](#outliers)\n",
    "    - 2.5 - [Missing Value Analysis and Treatment](#null)\n",
    "3. **[Hierarchical Clustering](#hierar)**\n",
    "    - 3.1 - [Scale the Data](#scale)\n",
    "    - 3.2 - [Build the Model](#model)\n",
    "    - 3.3 - [Plot the Dendrogram](#dendrogram)\n",
    "    - 3.4 - [Silhouette Score Method](#silhouette)\n",
    "4. **[Retrieve the Clusters](#retrieve_clusters)**\n",
    "    - 4.1 - [Analysis of Cluster_1](#cluster_1)\n",
    "    - 4.2 - [Analysis of Cluster_2](#cluster_2)\n",
    "5. **[DBSCAN](#DBSCAN)**"
   ]
  },
  {
   "cell_type": "markdown",
   "metadata": {
    "id": "sL3Cyuio12-p"
   },
   "source": [
    "<a id='import_lib'></a>\n",
    "# 1. Import Libraries"
   ]
  },
  {
   "cell_type": "markdown",
   "metadata": {
    "id": "fyALdGQr12-s"
   },
   "source": [
    "To perform various computations, first load the required libraries in python"
   ]
  },
  {
   "cell_type": "code",
   "execution_count": 44,
   "metadata": {
    "id": "pBKGBssvux-1"
   },
   "outputs": [],
   "source": [
    "# import 'numpy' to compute high-level mathematics functions \n",
    "import numpy as np\n",
    "\n",
    "# import 'pandas' to perform data manipulation\n",
    "import pandas as pd\n",
    "\n",
    "# import 'matplotlib.pyplot' for visualization\n",
    "import matplotlib.pyplot as plt\n",
    "\n",
    "# import 'seaborn' for high-level statistical graphics\n",
    "import seaborn as sns\n",
    "\n",
    "# to ignore the warnings run the following code\n",
    "import warnings\n",
    "warnings.filterwarnings(\"ignore\")\n",
    "\n",
    "# run below code to convert the 'exponential' values to float\n",
    "np.set_printoptions(suppress = True)\n",
    "\n",
    "# import functions from sklearn to perform clustering\n",
    "from sklearn.preprocessing import StandardScaler\n",
    "from sklearn.metrics import silhouette_score \n",
    "from sklearn.cluster import AgglomerativeClustering\n",
    "from sklearn.metrics.pairwise import euclidean_distances\n",
    "from sklearn.cluster import DBSCAN\n",
    "\n",
    "# import functions from scipy to perform clustering\n",
    "from scipy.cluster.hierarchy import linkage\n",
    "from scipy.cluster.hierarchy import dendrogram\n",
    "from scipy.cluster.hierarchy import cophenet"
   ]
  },
  {
   "cell_type": "code",
   "execution_count": 45,
   "metadata": {
    "id": "Vddeq4Nvux-2"
   },
   "outputs": [],
   "source": [
    "# set the plot size using 'rcParams'\n",
    "# once the plot size is set using 'rcParams', it sets the size of all the forthcoming plots in the file\n",
    "# pass width and height in inches to 'figure.figsize' \n",
    "plt.rcParams['figure.figsize'] = [15,8]"
   ]
  },
  {
   "cell_type": "markdown",
   "metadata": {
    "id": "6ZNvxZ81ux-2"
   },
   "source": [
    "<a id=\"prep\"></a>\n",
    "# 2. Data Preparation"
   ]
  },
  {
   "cell_type": "markdown",
   "metadata": {
    "id": "3t63jto2ux-2"
   },
   "source": [
    "<a id=\"read\"></a>\n",
    "## 2.1 Understand the Data"
   ]
  },
  {
   "cell_type": "markdown",
   "metadata": {
    "id": "w5GGhkQ1ux-2"
   },
   "source": [
    "#### Read the dataset and print the first five observations."
   ]
  },
  {
   "cell_type": "code",
   "execution_count": 46,
   "metadata": {
    "id": "MDbeZd5Hux-2",
    "outputId": "545cbac6-d59c-48af-b8fe-615e979a3f36",
    "scrolled": false
   },
   "outputs": [
    {
     "data": {
      "text/html": [
       "<div>\n",
       "<style scoped>\n",
       "    .dataframe tbody tr th:only-of-type {\n",
       "        vertical-align: middle;\n",
       "    }\n",
       "\n",
       "    .dataframe tbody tr th {\n",
       "        vertical-align: top;\n",
       "    }\n",
       "\n",
       "    .dataframe thead th {\n",
       "        text-align: right;\n",
       "    }\n",
       "</style>\n",
       "<table border=\"1\" class=\"dataframe\">\n",
       "  <thead>\n",
       "    <tr style=\"text-align: right;\">\n",
       "      <th></th>\n",
       "      <th>Products</th>\n",
       "      <th>Prod_id</th>\n",
       "      <th>Cust_id</th>\n",
       "      <th>Sales</th>\n",
       "      <th>Order_Quan</th>\n",
       "      <th>Profit</th>\n",
       "      <th>Shipping_Cost</th>\n",
       "      <th>Product_Base_Margin</th>\n",
       "      <th>Customer_Segment</th>\n",
       "    </tr>\n",
       "  </thead>\n",
       "  <tbody>\n",
       "    <tr>\n",
       "      <th>0</th>\n",
       "      <td>COPIERS AND FAX</td>\n",
       "      <td>Prod_16</td>\n",
       "      <td>Cust_1088</td>\n",
       "      <td>10909.641</td>\n",
       "      <td>40</td>\n",
       "      <td>2616.46</td>\n",
       "      <td>22.00</td>\n",
       "      <td>0.57</td>\n",
       "      <td>HOME OFFICE</td>\n",
       "    </tr>\n",
       "    <tr>\n",
       "      <th>1</th>\n",
       "      <td>COPIERS AND FAX</td>\n",
       "      <td>Prod_16</td>\n",
       "      <td>Cust_1820</td>\n",
       "      <td>10607.641</td>\n",
       "      <td>27</td>\n",
       "      <td>2977.36</td>\n",
       "      <td>23.69</td>\n",
       "      <td>0.56</td>\n",
       "      <td>CORPORATE</td>\n",
       "    </tr>\n",
       "    <tr>\n",
       "      <th>2</th>\n",
       "      <td>PAPER</td>\n",
       "      <td>Prod_6</td>\n",
       "      <td>Cust_1659</td>\n",
       "      <td>754.641</td>\n",
       "      <td>13</td>\n",
       "      <td>29.80</td>\n",
       "      <td>8.90</td>\n",
       "      <td>0.37</td>\n",
       "      <td>SMALL BUSINESS</td>\n",
       "    </tr>\n",
       "    <tr>\n",
       "      <th>3</th>\n",
       "      <td>PAPER</td>\n",
       "      <td>Prod_6</td>\n",
       "      <td>Cust_622</td>\n",
       "      <td>572.641</td>\n",
       "      <td>22</td>\n",
       "      <td>92.78</td>\n",
       "      <td>10.99</td>\n",
       "      <td>0.39</td>\n",
       "      <td>SMALL BUSINESS</td>\n",
       "    </tr>\n",
       "    <tr>\n",
       "      <th>4</th>\n",
       "      <td>OFFICE MACHINES</td>\n",
       "      <td>Prod_17</td>\n",
       "      <td>Cust_564</td>\n",
       "      <td>10128.641</td>\n",
       "      <td>50</td>\n",
       "      <td>5133.68</td>\n",
       "      <td>20.50</td>\n",
       "      <td>0.36</td>\n",
       "      <td>SMALL BUSINESS</td>\n",
       "    </tr>\n",
       "  </tbody>\n",
       "</table>\n",
       "</div>"
      ],
      "text/plain": [
       "          Products  Prod_id    Cust_id      Sales  Order_Quan   Profit  \\\n",
       "0  COPIERS AND FAX  Prod_16  Cust_1088  10909.641          40  2616.46   \n",
       "1  COPIERS AND FAX  Prod_16  Cust_1820  10607.641          27  2977.36   \n",
       "2            PAPER   Prod_6  Cust_1659    754.641          13    29.80   \n",
       "3            PAPER   Prod_6   Cust_622    572.641          22    92.78   \n",
       "4  OFFICE MACHINES  Prod_17   Cust_564  10128.641          50  5133.68   \n",
       "\n",
       "   Shipping_Cost  Product_Base_Margin Customer_Segment  \n",
       "0          22.00                 0.57      HOME OFFICE  \n",
       "1          23.69                 0.56        CORPORATE  \n",
       "2           8.90                 0.37   SMALL BUSINESS  \n",
       "3          10.99                 0.39   SMALL BUSINESS  \n",
       "4          20.50                 0.36   SMALL BUSINESS  "
      ]
     },
     "execution_count": 46,
     "metadata": {},
     "output_type": "execute_result"
    }
   ],
   "source": [
    "# load the excel file\n",
    "# store the data in 'df_prod'\n",
    "df_prod = pd.read_excel('purchase.xlsx')\n",
    "\n",
    "# display first five observations using head()\n",
    "df_prod.head()"
   ]
  },
  {
   "cell_type": "markdown",
   "metadata": {
    "id": "mE4EWy7Uux-2"
   },
   "source": [
    "Here each product is the identifier for the observation. Thus, we set the variable `Products` as the row index."
   ]
  },
  {
   "cell_type": "code",
   "execution_count": 47,
   "metadata": {
    "id": "QRpXda8oux-3",
    "outputId": "5dc1fb1f-d4a7-4121-f64a-7bd52198a77f"
   },
   "outputs": [
    {
     "data": {
      "text/html": [
       "<div>\n",
       "<style scoped>\n",
       "    .dataframe tbody tr th:only-of-type {\n",
       "        vertical-align: middle;\n",
       "    }\n",
       "\n",
       "    .dataframe tbody tr th {\n",
       "        vertical-align: top;\n",
       "    }\n",
       "\n",
       "    .dataframe thead th {\n",
       "        text-align: right;\n",
       "    }\n",
       "</style>\n",
       "<table border=\"1\" class=\"dataframe\">\n",
       "  <thead>\n",
       "    <tr style=\"text-align: right;\">\n",
       "      <th></th>\n",
       "      <th>Prod_id</th>\n",
       "      <th>Cust_id</th>\n",
       "      <th>Sales</th>\n",
       "      <th>Order_Quan</th>\n",
       "      <th>Profit</th>\n",
       "      <th>Shipping_Cost</th>\n",
       "      <th>Product_Base_Margin</th>\n",
       "      <th>Customer_Segment</th>\n",
       "    </tr>\n",
       "    <tr>\n",
       "      <th>Products</th>\n",
       "      <th></th>\n",
       "      <th></th>\n",
       "      <th></th>\n",
       "      <th></th>\n",
       "      <th></th>\n",
       "      <th></th>\n",
       "      <th></th>\n",
       "      <th></th>\n",
       "    </tr>\n",
       "  </thead>\n",
       "  <tbody>\n",
       "    <tr>\n",
       "      <th>COPIERS AND FAX</th>\n",
       "      <td>Prod_16</td>\n",
       "      <td>Cust_1088</td>\n",
       "      <td>10909.641</td>\n",
       "      <td>40</td>\n",
       "      <td>2616.46</td>\n",
       "      <td>22.00</td>\n",
       "      <td>0.57</td>\n",
       "      <td>HOME OFFICE</td>\n",
       "    </tr>\n",
       "    <tr>\n",
       "      <th>COPIERS AND FAX</th>\n",
       "      <td>Prod_16</td>\n",
       "      <td>Cust_1820</td>\n",
       "      <td>10607.641</td>\n",
       "      <td>27</td>\n",
       "      <td>2977.36</td>\n",
       "      <td>23.69</td>\n",
       "      <td>0.56</td>\n",
       "      <td>CORPORATE</td>\n",
       "    </tr>\n",
       "    <tr>\n",
       "      <th>PAPER</th>\n",
       "      <td>Prod_6</td>\n",
       "      <td>Cust_1659</td>\n",
       "      <td>754.641</td>\n",
       "      <td>13</td>\n",
       "      <td>29.80</td>\n",
       "      <td>8.90</td>\n",
       "      <td>0.37</td>\n",
       "      <td>SMALL BUSINESS</td>\n",
       "    </tr>\n",
       "    <tr>\n",
       "      <th>PAPER</th>\n",
       "      <td>Prod_6</td>\n",
       "      <td>Cust_622</td>\n",
       "      <td>572.641</td>\n",
       "      <td>22</td>\n",
       "      <td>92.78</td>\n",
       "      <td>10.99</td>\n",
       "      <td>0.39</td>\n",
       "      <td>SMALL BUSINESS</td>\n",
       "    </tr>\n",
       "    <tr>\n",
       "      <th>OFFICE MACHINES</th>\n",
       "      <td>Prod_17</td>\n",
       "      <td>Cust_564</td>\n",
       "      <td>10128.641</td>\n",
       "      <td>50</td>\n",
       "      <td>5133.68</td>\n",
       "      <td>20.50</td>\n",
       "      <td>0.36</td>\n",
       "      <td>SMALL BUSINESS</td>\n",
       "    </tr>\n",
       "  </tbody>\n",
       "</table>\n",
       "</div>"
      ],
      "text/plain": [
       "                 Prod_id    Cust_id      Sales  Order_Quan   Profit  \\\n",
       "Products                                                              \n",
       "COPIERS AND FAX  Prod_16  Cust_1088  10909.641          40  2616.46   \n",
       "COPIERS AND FAX  Prod_16  Cust_1820  10607.641          27  2977.36   \n",
       "PAPER             Prod_6  Cust_1659    754.641          13    29.80   \n",
       "PAPER             Prod_6   Cust_622    572.641          22    92.78   \n",
       "OFFICE MACHINES  Prod_17   Cust_564  10128.641          50  5133.68   \n",
       "\n",
       "                 Shipping_Cost  Product_Base_Margin Customer_Segment  \n",
       "Products                                                              \n",
       "COPIERS AND FAX          22.00                 0.57      HOME OFFICE  \n",
       "COPIERS AND FAX          23.69                 0.56        CORPORATE  \n",
       "PAPER                     8.90                 0.37   SMALL BUSINESS  \n",
       "PAPER                    10.99                 0.39   SMALL BUSINESS  \n",
       "OFFICE MACHINES          20.50                 0.36   SMALL BUSINESS  "
      ]
     },
     "execution_count": 47,
     "metadata": {},
     "output_type": "execute_result"
    }
   ],
   "source": [
    "# load the excel file \n",
    "# set the 1st column as index \n",
    "df_prod = pd.read_excel('purchase.xlsx', index_col = 0)\n",
    "\n",
    "# display first five observations using head()\n",
    "df_prod.head()"
   ]
  },
  {
   "cell_type": "markdown",
   "metadata": {
    "id": "PQ-3eG6eux-3"
   },
   "source": [
    "**Let us now see the number of variables and observations in the data.**"
   ]
  },
  {
   "cell_type": "code",
   "execution_count": 48,
   "metadata": {
    "id": "Zc0NVJfcux-3",
    "outputId": "15a4577c-00f5-4f25-ca85-8e8bcb66c848"
   },
   "outputs": [
    {
     "data": {
      "text/plain": [
       "(5977, 8)"
      ]
     },
     "execution_count": 48,
     "metadata": {},
     "output_type": "execute_result"
    }
   ],
   "source": [
    "# use 'shape' to check the dimension of data\n",
    "df_prod.shape"
   ]
  },
  {
   "cell_type": "markdown",
   "metadata": {
    "id": "UVyQCtTNux-3"
   },
   "source": [
    "**Interpretation:** The data has 5977 observations and 8 variables."
   ]
  },
  {
   "cell_type": "markdown",
   "metadata": {
    "id": "BlhWtW-1ux-3"
   },
   "source": [
    "<a id=\"dtype\"></a>\n",
    "## 2.2 Check the Data Type"
   ]
  },
  {
   "cell_type": "markdown",
   "metadata": {
    "id": "MluM4gXRux-4"
   },
   "source": [
    "**Check the data type of each variable. If the data type is not as per the data definition, change the data type.**"
   ]
  },
  {
   "cell_type": "code",
   "execution_count": 49,
   "metadata": {
    "id": "CwVThMK7ux-4",
    "outputId": "983efc8a-55cc-4141-bd5e-396eb9879656",
    "scrolled": false
   },
   "outputs": [
    {
     "data": {
      "text/plain": [
       "Prod_id                 object\n",
       "Cust_id                 object\n",
       "Sales                  float64\n",
       "Order_Quan               int64\n",
       "Profit                 float64\n",
       "Shipping_Cost          float64\n",
       "Product_Base_Margin    float64\n",
       "Customer_Segment        object\n",
       "dtype: object"
      ]
     },
     "execution_count": 49,
     "metadata": {},
     "output_type": "execute_result"
    }
   ],
   "source": [
    "# use 'dtypes' to check the data type of a variable\n",
    "df_prod.dtypes"
   ]
  },
  {
   "cell_type": "markdown",
   "metadata": {
    "id": "rGdlWKDcux-4"
   },
   "source": [
    "**Interpretation:** All the variables have correct data type as per the data definition."
   ]
  },
  {
   "cell_type": "markdown",
   "metadata": {
    "id": "HQoqg9rvux-4"
   },
   "source": [
    "<a id=\"drop\"></a>\n",
    "## 2.3 Remove Insignificant Variables"
   ]
  },
  {
   "cell_type": "markdown",
   "metadata": {
    "id": "1P6_Z9zmux-4"
   },
   "source": [
    "The column `Prod_id` contains the unique ID of each product, which is redundant for further analysis. Thus, we drop the column."
   ]
  },
  {
   "cell_type": "code",
   "execution_count": 50,
   "metadata": {
    "id": "eTrjUhOjux-4"
   },
   "outputs": [],
   "source": [
    "# drop the column 'Prod_id' using drop()\n",
    "# 'axis = 1' drops the specified column\n",
    "df_prod = df_prod.drop('Prod_id',axis=1)"
   ]
  },
  {
   "cell_type": "markdown",
   "metadata": {
    "id": "u1tVSFLjux-4"
   },
   "source": [
    "<a id=\"outliers\"></a>\n",
    "## 2.4 Outlier Analysis and Treatment"
   ]
  },
  {
   "cell_type": "markdown",
   "metadata": {
    "id": "iYoVGD7zux-4"
   },
   "source": [
    "**Check the outliers in all the variables and treat them using appropriate techniques.**"
   ]
  },
  {
   "cell_type": "code",
   "execution_count": 51,
   "metadata": {
    "id": "G7HE9bl9eboz",
    "outputId": "1d6ec8fb-1114-4614-9c66-6d7d9104892b"
   },
   "outputs": [
    {
     "data": {
      "image/png": "[encoded data removed]",
      "text/plain": [
       "<Figure size 1080x576 with 6 Axes>"
      ]
     },
     "metadata": {
      "needs_background": "light"
     },
     "output_type": "display_data"
    }
   ],
   "source": [
    "# consider the numeric variables\n",
    "df_num = df_prod.drop(['Cust_id', 'Customer_Segment'], axis = 1)\n",
    "\n",
    "# plot the boxplot for each numerical variable \n",
    "# set the number of rows in the subplot using the parameter, 'nrows'\n",
    "# set the number of columns in the subplot using the parameter, 'ncols'\n",
    "# 'figsize' sets the figure size\n",
    "fig, ax = plt.subplots(nrows = 2, ncols = 3, figsize=(15, 8))\n",
    "\n",
    "# use for loop to plot the boxplot for each variable\n",
    "for variable, subplot in zip(df_num.columns, ax.flatten()):\n",
    "    \n",
    "    # use boxplot() to plot the graph\n",
    "    # pass the axes for the plot to the parameter, 'ax'\n",
    "    sns.boxplot(df_prod[variable], ax = subplot)\n",
    "\n",
    "# display the plot\n",
    "plt.show()"
   ]
  },
  {
   "cell_type": "markdown",
   "metadata": {
    "id": "ViYMchkkux-5"
   },
   "source": [
    "We can see that the outliers are present in all the variables except `Order_Quan`. Before clustering, we remove the outliers using IQR method."
   ]
  },
  {
   "cell_type": "code",
   "execution_count": 52,
   "metadata": {
    "id": "uv7jeIbwux-5",
    "outputId": "60b9b4d0-5c5b-4bbe-8ed2-a07169379b83"
   },
   "outputs": [
    {
     "data": {
      "text/plain": [
       "(5192, 7)"
      ]
     },
     "execution_count": 52,
     "metadata": {},
     "output_type": "execute_result"
    }
   ],
   "source": [
    "# calculate the first quartile\n",
    "Q1 = df_prod.quantile(0.25)\n",
    "\n",
    "# calculate the third quartile\n",
    "Q3 = df_prod.quantile(0.75)\n",
    "\n",
    "# The Interquartile Range (IQR) is defined as the difference between the third and first quartile\n",
    "# calculate IQR for each numeric variable\n",
    "IQR = Q3 - Q1\n",
    "\n",
    "# retrieve the dataframe without the outliers\n",
    "# '~' returns the values that do not satisfy the given conditions \n",
    "# i.e. it returns values between the range [Q1-1.5*IQR, Q3+1.5*IQR]\n",
    "# '|' is used as 'OR' operator on multiple conditions   \n",
    "# 'any(axis=1)' checks the entire row for atleast one 'True' entry (those rows represents outliers in the data)\n",
    "df_prod = df_prod[~((df_prod < (Q1 - 1.5 * IQR)) | (df_prod > (Q3 + 1.5 * IQR))).any(axis=1)]\n",
    "\n",
    "# check the shape of the data\n",
    "df_prod.shape"
   ]
  },
  {
   "cell_type": "markdown",
   "metadata": {
    "id": "cbQwO0l2ux-6"
   },
   "source": [
    "We again plot the boxplot for each variable to recheck the outliers."
   ]
  },
  {
   "cell_type": "code",
   "execution_count": 53,
   "metadata": {
    "id": "sn_DoatJux-6",
    "outputId": "67fb7f39-f713-49f3-9bce-072465259550"
   },
   "outputs": [
    {
     "data": {
      "image/png": "[encoded data removed]",
      "text/plain": [
       "<Figure size 1080x576 with 6 Axes>"
      ]
     },
     "metadata": {
      "needs_background": "light"
     },
     "output_type": "display_data"
    }
   ],
   "source": [
    "# consider the numeric variables\n",
    "df_num = df_prod.drop(['Cust_id', 'Customer_Segment'], axis = 1)\n",
    "\n",
    "# plot the boxplot for each numerical variable \n",
    "# set the number of rows in the subplot using the parameter, 'nrows'\n",
    "# set the number of columns in the subplot using the parameter, 'ncols'\n",
    "# 'figsize' sets the figure size\n",
    "fig, ax = plt.subplots(nrows = 2, ncols = 3, figsize=(15, 8))\n",
    "\n",
    "# use for loop to plot the boxplot for each variable\n",
    "for variable, subplot in zip(df_num.columns, ax.flatten()):\n",
    "    \n",
    "    # use boxplot() to plot the graph\n",
    "    # pass the axes for the plot to the parameter, 'ax'\n",
    "    sns.boxplot(df_prod[variable], ax = subplot)\n",
    "\n",
    "# display the plot\n",
    "plt.show()"
   ]
  },
  {
   "cell_type": "markdown",
   "metadata": {
    "id": "ZLJjk4wdux-7"
   },
   "source": [
    "**Interpretation:** Observing the range of the boxplot, we say that the outliers are removed from the original data. The new 'outliers' that we can see in some of the variables are moderate outliers that lied within the min/max range before removing the actual outliers.\n",
    "\n",
    "Also, the number of observations is reduced from 5977 to 5192. Thus, we have removed the potential outliers."
   ]
  },
  {
   "cell_type": "markdown",
   "metadata": {
    "id": "Rrjxgl1Rux-7"
   },
   "source": [
    "<a id=\"null\"></a>\n",
    "## 2.5  Missing Value Analysis and Treatment"
   ]
  },
  {
   "cell_type": "markdown",
   "metadata": {
    "id": "5WPMyj85ux-7"
   },
   "source": [
    "**Check the presence of missing values in the data and treat them.**"
   ]
  },
  {
   "cell_type": "code",
   "execution_count": 54,
   "metadata": {
    "id": "MkQ1V3Q5ux-7",
    "outputId": "21bbd352-3e72-432e-d135-d55189e29771"
   },
   "outputs": [
    {
     "data": {
      "text/html": [
       "<div>\n",
       "<style scoped>\n",
       "    .dataframe tbody tr th:only-of-type {\n",
       "        vertical-align: middle;\n",
       "    }\n",
       "\n",
       "    .dataframe tbody tr th {\n",
       "        vertical-align: top;\n",
       "    }\n",
       "\n",
       "    .dataframe thead th {\n",
       "        text-align: right;\n",
       "    }\n",
       "</style>\n",
       "<table border=\"1\" class=\"dataframe\">\n",
       "  <thead>\n",
       "    <tr style=\"text-align: right;\">\n",
       "      <th></th>\n",
       "      <th>Total</th>\n",
       "      <th>Percentage of Missing Values</th>\n",
       "    </tr>\n",
       "  </thead>\n",
       "  <tbody>\n",
       "    <tr>\n",
       "      <th>Cust_id</th>\n",
       "      <td>0</td>\n",
       "      <td>0.0</td>\n",
       "    </tr>\n",
       "    <tr>\n",
       "      <th>Sales</th>\n",
       "      <td>0</td>\n",
       "      <td>0.0</td>\n",
       "    </tr>\n",
       "    <tr>\n",
       "      <th>Order_Quan</th>\n",
       "      <td>0</td>\n",
       "      <td>0.0</td>\n",
       "    </tr>\n",
       "    <tr>\n",
       "      <th>Profit</th>\n",
       "      <td>0</td>\n",
       "      <td>0.0</td>\n",
       "    </tr>\n",
       "    <tr>\n",
       "      <th>Shipping_Cost</th>\n",
       "      <td>0</td>\n",
       "      <td>0.0</td>\n",
       "    </tr>\n",
       "    <tr>\n",
       "      <th>Product_Base_Margin</th>\n",
       "      <td>0</td>\n",
       "      <td>0.0</td>\n",
       "    </tr>\n",
       "    <tr>\n",
       "      <th>Customer_Segment</th>\n",
       "      <td>0</td>\n",
       "      <td>0.0</td>\n",
       "    </tr>\n",
       "  </tbody>\n",
       "</table>\n",
       "</div>"
      ],
      "text/plain": [
       "                     Total  Percentage of Missing Values\n",
       "Cust_id                  0                           0.0\n",
       "Sales                    0                           0.0\n",
       "Order_Quan               0                           0.0\n",
       "Profit                   0                           0.0\n",
       "Shipping_Cost            0                           0.0\n",
       "Product_Base_Margin      0                           0.0\n",
       "Customer_Segment         0                           0.0"
      ]
     },
     "execution_count": 54,
     "metadata": {},
     "output_type": "execute_result"
    }
   ],
   "source": [
    "# sorting the variables on the basis of total null values in the variable\n",
    "# 'isnull().sum()' returns the number of missing values in each variable\n",
    "# 'ascending = False' sorts values in the descending order\n",
    "# the variable with highest number of missing values will appear first\n",
    "Total = df_prod.isnull().sum().sort_values(ascending = False)          \n",
    "\n",
    "# calculate percentage of missing values\n",
    "# 'ascending = False' sorts values in the descending order\n",
    "# the variable with highest percentage of missing values will appear first\n",
    "Percent = (df_prod.isnull().sum()*100/df_prod.isnull().count()).sort_values(ascending = False)   \n",
    "\n",
    "# concat the 'Total' and 'Percent' columns using 'concat' function\n",
    "# pass a list of column names in parameter 'keys' \n",
    "# 'axis = 1' concats along the columns\n",
    "missing_data = pd.concat([Total, Percent], axis = 1, keys = ['Total', 'Percentage of Missing Values'])    \n",
    "missing_data"
   ]
  },
  {
   "cell_type": "markdown",
   "metadata": {
    "id": "yHsvtlZjux-8"
   },
   "source": [
    "**Interpretation:** The above output shows that there are no missing values in the data."
   ]
  },
  {
   "cell_type": "markdown",
   "metadata": {
    "id": "GCY0nPFZux-8"
   },
   "source": [
    "<a id='hierar'></a>\n",
    "# 3. Hierarchical Clustering"
   ]
  },
  {
   "cell_type": "markdown",
   "metadata": {
    "id": "5WI0B2Zxux-8"
   },
   "source": [
    "It is the hierarchy based clustering method. `Agglomerative` and `Divisive` clustering are the two types of hierarchical clustering. \n",
    "\n",
    "In this session, we consider the Agglomerative clustering. In this method, each data point is considered as a single cluster and these clusters are grouped to form bigger clusters and eventually the single cluster of all the observations is created."
   ]
  },
  {
   "cell_type": "markdown",
   "metadata": {
    "id": "Gz-GZ7goux-8"
   },
   "source": [
    "<a id=\"scale\"></a>\n",
    "## 3.1 Scale the Data"
   ]
  },
  {
   "cell_type": "markdown",
   "metadata": {
    "id": "wqC1LPNrux-8"
   },
   "source": [
    "Each of the variables in the data has a different value range. Some features can dominate solely; because they tend to have larger values than others. To avoid this problem, we can scale the variables to get them in the same range.\n",
    "\n",
    "To group the data, we do not need the variables 'Cust_id' and 'Customer_Segment', so we remove these variables and use the remaining variables to build the model."
   ]
  },
  {
   "cell_type": "code",
   "execution_count": 55,
   "metadata": {
    "id": "sJYLNKTnux-8"
   },
   "outputs": [],
   "source": [
    "# select the variables for model building and store it in 'features'\n",
    "features = df_prod[['Sales', 'Order_Quan', 'Profit', 'Shipping_Cost', 'Product_Base_Margin']]"
   ]
  },
  {
   "cell_type": "code",
   "execution_count": 56,
   "metadata": {
    "id": "XFKR8tRiux-9"
   },
   "outputs": [],
   "source": [
    "# instantiate the 'StandardScaler'\n",
    "scaler = StandardScaler()\n",
    "\n",
    "# fit_transform() transforms the data by first computing the mean and sd and later scaling the data\n",
    "# name the standardized data as 'features_scaled'\n",
    "features_scaled = scaler.fit_transform(features)"
   ]
  },
  {
   "cell_type": "markdown",
   "metadata": {
    "id": "cYRY-AXl13AT"
   },
   "source": [
    "Now, we use the scaled data for model building."
   ]
  },
  {
   "cell_type": "markdown",
   "metadata": {
    "id": "MxL5N7BKux-9"
   },
   "source": [
    "<a id=\"model\"></a>\n",
    "## 3.2 Build the Model"
   ]
  },
  {
   "cell_type": "markdown",
   "metadata": {
    "id": "m33T1OICux-9"
   },
   "source": [
    "To perform hierarchical clustering, we need to specify the number of required clusters to the `AgglomerativeClustering()` from the scikit-learn library.\n",
    "\n",
    "To find the optimal number of clusters, we consider two methods: `Dendrogram` and `Silhouette Score Method`.\n",
    "\n",
    "First, we find the linkage matrix. It represents the distance between the clusters based on the given linkage method. There are several linkage methods like `single`, `complete`, `average`, `centroid` `ward`. Here we use the `ward linkage` to calculate the linkage matrix. For most of the datasets, this method returns most explicit clusters."
   ]
  },
  {
   "cell_type": "code",
   "execution_count": 57,
   "metadata": {
    "id": "CIT8Fd0Iux-9",
    "outputId": "e34d24b0-8d93-46a4-ecfe-59b7130ef5f4"
   },
   "outputs": [
    {
     "name": "stdout",
     "output_type": "stream",
     "text": [
      "[[1113. 1253.    0.    2.]\n",
      " [1903. 5192.    0.    3.]\n",
      " [1133. 2146.    0.    2.]\n",
      " [1234. 1544.    0.    2.]\n",
      " [1656. 5195.    0.    3.]\n",
      " [1883. 5196.    0.    4.]\n",
      " [4320. 4418.    0.    2.]\n",
      " [4436. 5198.    0.    3.]\n",
      " [2932. 2988.    0.    2.]\n",
      " [2820. 3027.    0.    2.]]\n"
     ]
    }
   ],
   "source": [
    "# instantiate linkage object with scaled data and consider 'ward' linkage method \n",
    "link_mat = linkage(features_scaled, method = 'ward')     \n",
    "\n",
    "# print first 10 observations of the linkage matrix 'link_mat'\n",
    "print(link_mat[0:10])"
   ]
  },
  {
   "cell_type": "code",
   "execution_count": 58,
   "metadata": {},
   "outputs": [
    {
     "data": {
      "text/plain": [
       "(5191, 4)"
      ]
     },
     "execution_count": 58,
     "metadata": {},
     "output_type": "execute_result"
    }
   ],
   "source": [
    "link_mat.shape"
   ]
  },
  {
   "cell_type": "markdown",
   "metadata": {
    "id": "9PhaZkaq13Az"
   },
   "source": [
    "**Interpretation:** The values in the first two columns below n (= 5192) are simply the indices of the observations that are clustered in pairs to form a new cluster. This new cluster is assigned the index value 'n+i' (for ith row). The intermediate clusters going forward, are indexed successively.\n",
    "\n",
    "The third column represents the cophenetic distances (the height at which the clusters are merged for the first time) between the clusters at each row i, and the fourth column gives the number of observations in that cluster.\n",
    "\n",
    "For example: The 5th row represents the grouping of 1656th observations and 5195th cluster. Since the dataset is large, most of the observations are merged at 0 height. The new cluster contains 3 data points (i.e. 5195th cluster is a cluster of 2 observations)."
   ]
  },
  {
   "cell_type": "markdown",
   "metadata": {
    "id": "KzahAlNdux-9"
   },
   "source": [
    "<a id=\"dendrogram\"></a>\n",
    "## 3.3 Plot the Dendrogram"
   ]
  },
  {
   "cell_type": "markdown",
   "metadata": {
    "id": "REt9TTdHux-9"
   },
   "source": [
    "A dendrogram is a visualization in the form of a tree, that represents the order and distances of merges during the hierarchical clustering. The structure of the dendrogram depends on the linkage method used in to calculate the distances between the clusters.\n",
    "\n",
    "It plots each observation on the x-axis as one cluster in the first step of clustering; i.e. we will have 5192 points on x-axis and ward distance on y-axis. \n",
    "\n",
    "We use the dendrogram to find the optimal number of clusters. The number of clusters 'K' that remains constant for the larger distance on the dendrogram represents the optimal value."
   ]
  },
  {
   "cell_type": "code",
   "execution_count": 59,
   "metadata": {
    "id": "2jMZgvRcux--",
    "outputId": "d13867d5-aacc-41c4-c63c-98f10d5cfd9c"
   },
   "outputs": [
    {
     "data": {
      "image/png": "[encoded data removed]",
      "text/plain": [
       "<Figure size 1080x576 with 1 Axes>"
      ]
     },
     "metadata": {
      "needs_background": "light"
     },
     "output_type": "display_data"
    }
   ],
   "source": [
    "# plot the dendrogram\n",
    "# pass the linkage matrix\n",
    "dendro = dendrogram(link_mat)\n",
    "\n",
    "# annotate the distance on the y-axis for distance > 20\n",
    "# 'dendro' returns the dictionary containing x,y coordinates and the color list for each merge\n",
    "# the 'icoord' returns the x-coordinates for the rectangle that represents the merging\n",
    "# the 'dcoord' returns the y-coordinates (distance) for the each corner of the rectangle that represents the merging\n",
    "for i, d, c in zip(dendro['icoord'], dendro['dcoord'], dendro['color_list']):\n",
    "    \n",
    "    # consider 'x' as the x-coordinate of the average distance on the merging line\n",
    "    x = sum(i[1:3])/2\n",
    "    \n",
    "    # consider 'y' as the distance at which the merging occurs \n",
    "    y = d[1]\n",
    "    \n",
    "    # pass the if-condition for annotation\n",
    "    if y > 20:\n",
    "        \n",
    "        # plot the bullet and annotate the merging distance 'y'\n",
    "        plt.plot(x, y, 'o', c=c)\n",
    "        \n",
    "        # pass the conditions to annotate the distance\n",
    "        plt.annotate(\"%.3g\" % y, (x, y), xytext=(0, -5), textcoords='offset points', va='top', ha='center')\n",
    "\n",
    "        \n",
    "# plot the line to cut the dendrogram\n",
    "plt.axhline(y = 100)\n",
    "\n",
    "# set the axes and plot labels\n",
    "# set the font size using 'fontsize'\n",
    "plt.title('Dendrogram', fontsize = 15)\n",
    "plt.xlabel('Index', fontsize = 15)\n",
    "plt.ylabel('Distance', fontsize = 15)\n",
    "\n",
    "# display the plot\n",
    "plt.show()"
   ]
  },
  {
   "cell_type": "markdown",
   "metadata": {
    "id": "2l39K6nujkdd"
   },
   "source": [
    "**Interpretation:** \n",
    "\n",
    "1) x-axis contains the observations and the y-axis contains the distances computed using the 'ward' method. \n",
    "\n",
    "2) Horizontal lines show the merging of the clusters.\n",
    "\n",
    "3) The topmost line in the dendrogram refers to a single cluster of all the data points.\n",
    "\n",
    "The above dendrogram shows that the number of clusters (=2) is constant from the distance 63.4 to 156. Thus, we can consider the value 'two' as the optimal number of clusters. The horizontal black line in the dendrogram intersects the vertical lines at two unique points. The different colors below the line correspond to the different clusters."
   ]
  },
  {
   "cell_type": "markdown",
   "metadata": {
    "id": "iIRyYubRux--"
   },
   "source": [
    "#### Let us calculate the Cophenetic correlation coefficient to study the quality of clusters formed using dendrogram."
   ]
  },
  {
   "cell_type": "code",
   "execution_count": 60,
   "metadata": {
    "id": "YgaMYcWcux--",
    "outputId": "075ad30e-6cb6-4c1e-b4e2-d12a2f617941"
   },
   "outputs": [
    {
     "name": "stdout",
     "output_type": "stream",
     "text": [
      "0.7772274556460057\n"
     ]
    }
   ],
   "source": [
    "# calculate the euclidean distance between the observations \n",
    "eucli_dist = euclidean_distances(features_scaled)\n",
    "\n",
    "# the above code will return the matrix of 5192x5192\n",
    "# consider only the array of upper triangular matrix\n",
    "# k=1 considers the upper triangular values without the diagonal elements\n",
    "dist_array = eucli_dist[np.triu_indices(5192, k = 1)]\n",
    "\n",
    "# pass the linkage matrix and actual distance\n",
    "# 1st output of the cophenet() is the correlation coefficient\n",
    "coeff, cophenet_dist = cophenet(link_mat, dist_array)\n",
    "\n",
    "# print the cophenetic correlation coefficient\n",
    "print(coeff)"
   ]
  },
  {
   "cell_type": "markdown",
   "metadata": {
    "id": "ggLzBrGEux--"
   },
   "source": [
    "**Interpretation:** The value of cophenetic correlation coefficient is 0.7772. The value close to 1 indicates the best linkage quality. Here we can say that the linkage quality is good."
   ]
  },
  {
   "cell_type": "markdown",
   "metadata": {
    "id": "EvvEBM-rux--"
   },
   "source": [
    "<a id=\"silhouette\"></a>\n",
    "## 3.4 Silhouette Score Method"
   ]
  },
  {
   "cell_type": "markdown",
   "metadata": {
    "id": "l1tpQwEJux--"
   },
   "source": [
    "The Silhouette score can also be used to identify the optimal number of clusters. We plot the Silhouette score for different values of K. The `K` with the highest Silhouette score represents the optimal value for the number of clusters (K)."
   ]
  },
  {
   "cell_type": "code",
   "execution_count": 61,
   "metadata": {
    "id": "ngRtCZT3ux-_",
    "outputId": "7b9a8c1e-6e92-428f-88f9-b26e2c97c0cf"
   },
   "outputs": [
    {
     "data": {
      "image/png": "[encoded data removed]",
      "text/plain": [
       "<Figure size 1080x576 with 1 Axes>"
      ]
     },
     "metadata": {
      "needs_background": "light"
     },
     "output_type": "display_data"
    }
   ],
   "source": [
    "# consider different values of K\n",
    "K = [2,3,4,5,6]\n",
    "\n",
    "# consider an empty list tot store the Silhouette score\n",
    "silhouette_scores = [] \n",
    "\n",
    "# consider a for loop to perform clustering for different values of K\n",
    "for i in K:\n",
    "    \n",
    "    # instantiate clustering for each value of K\n",
    "    model = AgglomerativeClustering(n_clusters = i) \n",
    "    \n",
    "    # calculate the Silhouette score and append to the list 'silhouette_scores'\n",
    "    silhouette_scores.append(silhouette_score(features_scaled, model.fit_predict(features_scaled))) \n",
    "    \n",
    "# plot the Silhouette score for different K\n",
    "plt.bar(K, silhouette_scores) \n",
    "\n",
    "# set the axes and plot labels\n",
    "# set the font size using 'fontsize'\n",
    "plt.title('Silhouette Score for Values of K', fontsize = 15)\n",
    "plt.xlabel('Number of Clusters', fontsize = 15) \n",
    "plt.ylabel('Silhouette Scores', fontsize = 15)\n",
    "\n",
    "# display the plot\n",
    "plt.show()"
   ]
  },
  {
   "cell_type": "markdown",
   "metadata": {
    "id": "XZhIFZWcux-_"
   },
   "source": [
    "**Interpretation:** The above plot shows that the Silhouette score for K = 2 is the highest. This imlpies that K = 2 is the optimal value for number of clusters."
   ]
  },
  {
   "cell_type": "markdown",
   "metadata": {
    "id": "5_onaoPVux-_"
   },
   "source": [
    "Both the dendrogram and Silhouette score method returns K = 2 as the optimal value for the number of clusters. Now we retrieve the clusters and let us visualize the data."
   ]
  },
  {
   "cell_type": "markdown",
   "metadata": {
    "id": "5k39Z670ux-_"
   },
   "source": [
    "<a id='retrieve_clusters'></a>\n",
    "# 4. Retrieve the Clusters"
   ]
  },
  {
   "cell_type": "markdown",
   "metadata": {
    "id": "FdVJO7xDux-_"
   },
   "source": [
    "Let us use `AgglomerativeClustering()` to form two clusters. "
   ]
  },
  {
   "cell_type": "code",
   "execution_count": 62,
   "metadata": {
    "id": "5g5MQVKmux-_",
    "outputId": "ef81efad-da42-4918-9fa7-874a023e9f8b",
    "scrolled": true
   },
   "outputs": [
    {
     "data": {
      "text/plain": [
       "AgglomerativeClustering()"
      ]
     },
     "execution_count": 62,
     "metadata": {},
     "output_type": "execute_result"
    }
   ],
   "source": [
    "# instantiate clustering method with 2 clusters and 'ward' linkage method\n",
    "clusters = AgglomerativeClustering(n_clusters=2, linkage='ward')\n",
    "\n",
    "# fit the model on the scaled data\n",
    "clusters.fit(features_scaled)"
   ]
  },
  {
   "cell_type": "code",
   "execution_count": 63,
   "metadata": {
    "id": "GHBSN9XEux-_",
    "outputId": "d2c1ad46-4799-4374-b34a-5dad9aa4c201"
   },
   "outputs": [
    {
     "data": {
      "text/html": [
       "<div>\n",
       "<style scoped>\n",
       "    .dataframe tbody tr th:only-of-type {\n",
       "        vertical-align: middle;\n",
       "    }\n",
       "\n",
       "    .dataframe tbody tr th {\n",
       "        vertical-align: top;\n",
       "    }\n",
       "\n",
       "    .dataframe thead th {\n",
       "        text-align: right;\n",
       "    }\n",
       "</style>\n",
       "<table border=\"1\" class=\"dataframe\">\n",
       "  <thead>\n",
       "    <tr style=\"text-align: right;\">\n",
       "      <th></th>\n",
       "      <th>Cust_id</th>\n",
       "      <th>Sales</th>\n",
       "      <th>Order_Quan</th>\n",
       "      <th>Profit</th>\n",
       "      <th>Shipping_Cost</th>\n",
       "      <th>Product_Base_Margin</th>\n",
       "      <th>Customer_Segment</th>\n",
       "      <th>Cluster</th>\n",
       "    </tr>\n",
       "    <tr>\n",
       "      <th>Products</th>\n",
       "      <th></th>\n",
       "      <th></th>\n",
       "      <th></th>\n",
       "      <th></th>\n",
       "      <th></th>\n",
       "      <th></th>\n",
       "      <th></th>\n",
       "      <th></th>\n",
       "    </tr>\n",
       "  </thead>\n",
       "  <tbody>\n",
       "    <tr>\n",
       "      <th>COPIERS AND FAX</th>\n",
       "      <td>Cust_1088</td>\n",
       "      <td>10909.641</td>\n",
       "      <td>40</td>\n",
       "      <td>2616.46</td>\n",
       "      <td>22.00</td>\n",
       "      <td>0.57</td>\n",
       "      <td>HOME OFFICE</td>\n",
       "      <td>0</td>\n",
       "    </tr>\n",
       "    <tr>\n",
       "      <th>COPIERS AND FAX</th>\n",
       "      <td>Cust_1820</td>\n",
       "      <td>10607.641</td>\n",
       "      <td>27</td>\n",
       "      <td>2977.36</td>\n",
       "      <td>23.69</td>\n",
       "      <td>0.56</td>\n",
       "      <td>CORPORATE</td>\n",
       "      <td>0</td>\n",
       "    </tr>\n",
       "    <tr>\n",
       "      <th>PAPER</th>\n",
       "      <td>Cust_1659</td>\n",
       "      <td>754.641</td>\n",
       "      <td>13</td>\n",
       "      <td>29.80</td>\n",
       "      <td>8.90</td>\n",
       "      <td>0.37</td>\n",
       "      <td>SMALL BUSINESS</td>\n",
       "      <td>1</td>\n",
       "    </tr>\n",
       "    <tr>\n",
       "      <th>PAPER</th>\n",
       "      <td>Cust_622</td>\n",
       "      <td>572.641</td>\n",
       "      <td>22</td>\n",
       "      <td>92.78</td>\n",
       "      <td>10.99</td>\n",
       "      <td>0.39</td>\n",
       "      <td>SMALL BUSINESS</td>\n",
       "      <td>1</td>\n",
       "    </tr>\n",
       "    <tr>\n",
       "      <th>OFFICE MACHINES</th>\n",
       "      <td>Cust_564</td>\n",
       "      <td>10128.641</td>\n",
       "      <td>50</td>\n",
       "      <td>5133.68</td>\n",
       "      <td>20.50</td>\n",
       "      <td>0.36</td>\n",
       "      <td>SMALL BUSINESS</td>\n",
       "      <td>0</td>\n",
       "    </tr>\n",
       "  </tbody>\n",
       "</table>\n",
       "</div>"
      ],
      "text/plain": [
       "                   Cust_id      Sales  Order_Quan   Profit  Shipping_Cost  \\\n",
       "Products                                                                    \n",
       "COPIERS AND FAX  Cust_1088  10909.641          40  2616.46          22.00   \n",
       "COPIERS AND FAX  Cust_1820  10607.641          27  2977.36          23.69   \n",
       "PAPER            Cust_1659    754.641          13    29.80           8.90   \n",
       "PAPER             Cust_622    572.641          22    92.78          10.99   \n",
       "OFFICE MACHINES   Cust_564  10128.641          50  5133.68          20.50   \n",
       "\n",
       "                 Product_Base_Margin Customer_Segment  Cluster  \n",
       "Products                                                        \n",
       "COPIERS AND FAX                 0.57      HOME OFFICE        0  \n",
       "COPIERS AND FAX                 0.56        CORPORATE        0  \n",
       "PAPER                           0.37   SMALL BUSINESS        1  \n",
       "PAPER                           0.39   SMALL BUSINESS        1  \n",
       "OFFICE MACHINES                 0.36   SMALL BUSINESS        0  "
      ]
     },
     "execution_count": 63,
     "metadata": {},
     "output_type": "execute_result"
    }
   ],
   "source": [
    "# add a column containing cluster number to the original data\n",
    "df_prod['Cluster'] = clusters.labels_\n",
    "\n",
    "# print head() of the newly formed dataframe\n",
    "df_prod.head()"
   ]
  },
  {
   "cell_type": "markdown",
   "metadata": {
    "id": "FvRAl_8c6bNG"
   },
   "source": [
    "Check the size of each cluster."
   ]
  },
  {
   "cell_type": "code",
   "execution_count": 64,
   "metadata": {
    "colab": {
     "base_uri": "https://localhost:8080/",
     "height": 51
    },
    "id": "6bhhDotq53N5",
    "outputId": "2a04430a-69d2-4b49-e7cf-ba9c44240793",
    "scrolled": true
   },
   "outputs": [
    {
     "data": {
      "text/plain": [
       "1    3459\n",
       "0    1733\n",
       "Name: Cluster, dtype: int64"
      ]
     },
     "execution_count": 64,
     "metadata": {},
     "output_type": "execute_result"
    }
   ],
   "source": [
    "# check the size of each cluster\n",
    "df_prod['Cluster'].value_counts()"
   ]
  },
  {
   "cell_type": "code",
   "execution_count": 65,
   "metadata": {
    "colab": {
     "base_uri": "https://localhost:8080/",
     "height": 279
    },
    "id": "6dJsjKLP68tb",
    "outputId": "a34261f5-38b5-4d64-b7d9-76ad8d392181"
   },
   "outputs": [
    {
     "data": {
      "image/png": "[encoded data removed]",
      "text/plain": [
       "<Figure size 1080x576 with 1 Axes>"
      ]
     },
     "metadata": {
      "needs_background": "light"
     },
     "output_type": "display_data"
    }
   ],
   "source": [
    "# plot the countplot for the cluster size\n",
    "sns.countplot(data = df_prod, x = 'Cluster')\n",
    "\n",
    "# set the axes and plot labels\n",
    "# set the font size using 'fontsize'\n",
    "plt.title('Size of Cluster', fontsize = 15)\n",
    "plt.xlabel('Cluster', fontsize = 15)\n",
    "plt.ylabel('No. of Products', fontsize = 15)\n",
    "\n",
    "# display the plot\n",
    "plt.show()"
   ]
  },
  {
   "cell_type": "markdown",
   "metadata": {
    "id": "0IhDpasSux_A"
   },
   "source": [
    "Now let us visualize the clusters. As we have more than 2 features, we consider only the variables `Sales` and `Profit` to visualize the clusters."
   ]
  },
  {
   "cell_type": "code",
   "execution_count": 66,
   "metadata": {
    "id": "_NZNoMNIux_A",
    "outputId": "d31547ae-e638-45c4-aca9-e5b3d14c1d32"
   },
   "outputs": [
    {
     "data": {
      "image/png": "[encoded data removed]",
      "text/plain": [
       "<Figure size 1080x576 with 1 Axes>"
      ]
     },
     "metadata": {
      "needs_background": "light"
     },
     "output_type": "display_data"
    }
   ],
   "source": [
    "# plot the scatterplot to visualize the clusters\n",
    "sns.scatterplot(x = 'Sales', y = 'Profit', data = df_prod, hue = 'Cluster')\n",
    "\n",
    "# set the axes and plot labels\n",
    "# set the font size using 'fontsize'\n",
    "plt.title('Hierarchical Clustering', fontsize = 15)\n",
    "plt.xlabel('Sales', fontsize = 15)\n",
    "plt.ylabel('Profit', fontsize = 15)\n",
    "\n",
    "# display the plot\n",
    "plt.show()"
   ]
  },
  {
   "cell_type": "markdown",
   "metadata": {
    "id": "dV-i7LrVux_A"
   },
   "source": [
    "**Interpretation:** The largest cluster is shown by the orange color in the above plot."
   ]
  },
  {
   "cell_type": "markdown",
   "metadata": {
    "id": "ezI7aLyyBNoY"
   },
   "source": [
    "<a id='cluster_1'></a>\n",
    "## 4.1 Analysis of Cluster_1"
   ]
  },
  {
   "cell_type": "markdown",
   "metadata": {
    "id": "_Jj9JIv5F1LJ"
   },
   "source": [
    "#### Check the size of the cluster"
   ]
  },
  {
   "cell_type": "code",
   "execution_count": 67,
   "metadata": {
    "colab": {
     "base_uri": "https://localhost:8080/"
    },
    "id": "aHXy4iwgF4Fd",
    "outputId": "a1f2e9c9-2977-4e55-9bf4-b64156e8e6bb"
   },
   "outputs": [
    {
     "data": {
      "text/plain": [
       "1733"
      ]
     },
     "execution_count": 67,
     "metadata": {},
     "output_type": "execute_result"
    }
   ],
   "source": [
    "# size of a cluster_1\n",
    "df_prod['Cluster'].value_counts()[0]"
   ]
  },
  {
   "cell_type": "markdown",
   "metadata": {
    "id": "tSZFcGV6CDlf"
   },
   "source": [
    "#### Classify products belonging to the cluster "
   ]
  },
  {
   "cell_type": "code",
   "execution_count": 68,
   "metadata": {
    "colab": {
     "base_uri": "https://localhost:8080/"
    },
    "id": "lQmBGY5rBkvX",
    "outputId": "73708a85-4247-4df4-d083-c6eb1d4bf770"
   },
   "outputs": [
    {
     "data": {
      "text/html": [
       "<div>\n",
       "<style scoped>\n",
       "    .dataframe tbody tr th:only-of-type {\n",
       "        vertical-align: middle;\n",
       "    }\n",
       "\n",
       "    .dataframe tbody tr th {\n",
       "        vertical-align: top;\n",
       "    }\n",
       "\n",
       "    .dataframe thead th {\n",
       "        text-align: right;\n",
       "    }\n",
       "</style>\n",
       "<table border=\"1\" class=\"dataframe\">\n",
       "  <thead>\n",
       "    <tr style=\"text-align: right;\">\n",
       "      <th></th>\n",
       "      <th>Cust_id</th>\n",
       "      <th>Sales</th>\n",
       "      <th>Order_Quan</th>\n",
       "      <th>Profit</th>\n",
       "      <th>Shipping_Cost</th>\n",
       "      <th>Product_Base_Margin</th>\n",
       "      <th>Customer_Segment</th>\n",
       "      <th>Cluster</th>\n",
       "    </tr>\n",
       "    <tr>\n",
       "      <th>Products</th>\n",
       "      <th></th>\n",
       "      <th></th>\n",
       "      <th></th>\n",
       "      <th></th>\n",
       "      <th></th>\n",
       "      <th></th>\n",
       "      <th></th>\n",
       "      <th></th>\n",
       "    </tr>\n",
       "  </thead>\n",
       "  <tbody>\n",
       "    <tr>\n",
       "      <th>COPIERS AND FAX</th>\n",
       "      <td>Cust_1088</td>\n",
       "      <td>10909.641</td>\n",
       "      <td>40</td>\n",
       "      <td>2616.46</td>\n",
       "      <td>22.00</td>\n",
       "      <td>0.57</td>\n",
       "      <td>HOME OFFICE</td>\n",
       "      <td>0</td>\n",
       "    </tr>\n",
       "    <tr>\n",
       "      <th>COPIERS AND FAX</th>\n",
       "      <td>Cust_1820</td>\n",
       "      <td>10607.641</td>\n",
       "      <td>27</td>\n",
       "      <td>2977.36</td>\n",
       "      <td>23.69</td>\n",
       "      <td>0.56</td>\n",
       "      <td>CORPORATE</td>\n",
       "      <td>0</td>\n",
       "    </tr>\n",
       "    <tr>\n",
       "      <th>OFFICE MACHINES</th>\n",
       "      <td>Cust_564</td>\n",
       "      <td>10128.641</td>\n",
       "      <td>50</td>\n",
       "      <td>5133.68</td>\n",
       "      <td>20.50</td>\n",
       "      <td>0.36</td>\n",
       "      <td>SMALL BUSINESS</td>\n",
       "      <td>0</td>\n",
       "    </tr>\n",
       "    <tr>\n",
       "      <th>COPIERS AND FAX</th>\n",
       "      <td>Cust_1388</td>\n",
       "      <td>10378.641</td>\n",
       "      <td>54</td>\n",
       "      <td>5504.10</td>\n",
       "      <td>27.99</td>\n",
       "      <td>0.56</td>\n",
       "      <td>SMALL BUSINESS</td>\n",
       "      <td>0</td>\n",
       "    </tr>\n",
       "    <tr>\n",
       "      <th>COPIERS AND FAX</th>\n",
       "      <td>Cust_1052</td>\n",
       "      <td>11135.641</td>\n",
       "      <td>27</td>\n",
       "      <td>3317.67</td>\n",
       "      <td>17.50</td>\n",
       "      <td>0.59</td>\n",
       "      <td>HOME OFFICE</td>\n",
       "      <td>0</td>\n",
       "    </tr>\n",
       "    <tr>\n",
       "      <th>COPIERS AND FAX</th>\n",
       "      <td>Cust_346</td>\n",
       "      <td>11337.641</td>\n",
       "      <td>52</td>\n",
       "      <td>2800.43</td>\n",
       "      <td>20.00</td>\n",
       "      <td>0.60</td>\n",
       "      <td>CORPORATE</td>\n",
       "      <td>0</td>\n",
       "    </tr>\n",
       "    <tr>\n",
       "      <th>COPIERS AND FAX</th>\n",
       "      <td>Cust_1440</td>\n",
       "      <td>10992.641</td>\n",
       "      <td>36</td>\n",
       "      <td>3553.31</td>\n",
       "      <td>16.20</td>\n",
       "      <td>0.55</td>\n",
       "      <td>HOME OFFICE</td>\n",
       "      <td>0</td>\n",
       "    </tr>\n",
       "    <tr>\n",
       "      <th>COPIERS AND FAX</th>\n",
       "      <td>Cust_444</td>\n",
       "      <td>10314.641</td>\n",
       "      <td>24</td>\n",
       "      <td>2954.96</td>\n",
       "      <td>21.69</td>\n",
       "      <td>0.57</td>\n",
       "      <td>CORPORATE</td>\n",
       "      <td>0</td>\n",
       "    </tr>\n",
       "    <tr>\n",
       "      <th>BINDERS AND BINDER ACCESSORIES</th>\n",
       "      <td>Cust_513</td>\n",
       "      <td>9553.641</td>\n",
       "      <td>48</td>\n",
       "      <td>2736.56</td>\n",
       "      <td>20.03</td>\n",
       "      <td>0.39</td>\n",
       "      <td>CORPORATE</td>\n",
       "      <td>0</td>\n",
       "    </tr>\n",
       "    <tr>\n",
       "      <th>TELEPHONES AND COMMUNICATION</th>\n",
       "      <td>Cust_1457</td>\n",
       "      <td>8763.641</td>\n",
       "      <td>48</td>\n",
       "      <td>3671.13</td>\n",
       "      <td>24.80</td>\n",
       "      <td>0.56</td>\n",
       "      <td>HOME OFFICE</td>\n",
       "      <td>0</td>\n",
       "    </tr>\n",
       "  </tbody>\n",
       "</table>\n",
       "</div>"
      ],
      "text/plain": [
       "                                  Cust_id      Sales  Order_Quan   Profit  \\\n",
       "Products                                                                    \n",
       "COPIERS AND FAX                 Cust_1088  10909.641          40  2616.46   \n",
       "COPIERS AND FAX                 Cust_1820  10607.641          27  2977.36   \n",
       "OFFICE MACHINES                  Cust_564  10128.641          50  5133.68   \n",
       "COPIERS AND FAX                 Cust_1388  10378.641          54  5504.10   \n",
       "COPIERS AND FAX                 Cust_1052  11135.641          27  3317.67   \n",
       "COPIERS AND FAX                  Cust_346  11337.641          52  2800.43   \n",
       "COPIERS AND FAX                 Cust_1440  10992.641          36  3553.31   \n",
       "COPIERS AND FAX                  Cust_444  10314.641          24  2954.96   \n",
       "BINDERS AND BINDER ACCESSORIES   Cust_513   9553.641          48  2736.56   \n",
       "TELEPHONES AND COMMUNICATION    Cust_1457   8763.641          48  3671.13   \n",
       "\n",
       "                                Shipping_Cost  Product_Base_Margin  \\\n",
       "Products                                                             \n",
       "COPIERS AND FAX                         22.00                 0.57   \n",
       "COPIERS AND FAX                         23.69                 0.56   \n",
       "OFFICE MACHINES                         20.50                 0.36   \n",
       "COPIERS AND FAX                         27.99                 0.56   \n",
       "COPIERS AND FAX                         17.50                 0.59   \n",
       "COPIERS AND FAX                         20.00                 0.60   \n",
       "COPIERS AND FAX                         16.20                 0.55   \n",
       "COPIERS AND FAX                         21.69                 0.57   \n",
       "BINDERS AND BINDER ACCESSORIES          20.03                 0.39   \n",
       "TELEPHONES AND COMMUNICATION            24.80                 0.56   \n",
       "\n",
       "                               Customer_Segment  Cluster  \n",
       "Products                                                  \n",
       "COPIERS AND FAX                     HOME OFFICE        0  \n",
       "COPIERS AND FAX                       CORPORATE        0  \n",
       "OFFICE MACHINES                  SMALL BUSINESS        0  \n",
       "COPIERS AND FAX                  SMALL BUSINESS        0  \n",
       "COPIERS AND FAX                     HOME OFFICE        0  \n",
       "COPIERS AND FAX                       CORPORATE        0  \n",
       "COPIERS AND FAX                     HOME OFFICE        0  \n",
       "COPIERS AND FAX                       CORPORATE        0  \n",
       "BINDERS AND BINDER ACCESSORIES        CORPORATE        0  \n",
       "TELEPHONES AND COMMUNICATION        HOME OFFICE        0  "
      ]
     },
     "execution_count": 68,
     "metadata": {},
     "output_type": "execute_result"
    }
   ],
   "source": [
    "# first 10 products in the cluster_1\n",
    "df_prod[df_prod.Cluster == 0].head(10)"
   ]
  },
  {
   "cell_type": "markdown",
   "metadata": {
    "id": "-qedn_8ADDyr"
   },
   "source": [
    "#### Compute the statistical summary for the products in this cluster"
   ]
  },
  {
   "cell_type": "code",
   "execution_count": 69,
   "metadata": {
    "colab": {
     "base_uri": "https://localhost:8080/"
    },
    "id": "bf_rqdgGDedB",
    "outputId": "49a283d3-de20-4292-df28-373a77fcfc58",
    "scrolled": true
   },
   "outputs": [
    {
     "data": {
      "text/html": [
       "<div>\n",
       "<style scoped>\n",
       "    .dataframe tbody tr th:only-of-type {\n",
       "        vertical-align: middle;\n",
       "    }\n",
       "\n",
       "    .dataframe tbody tr th {\n",
       "        vertical-align: top;\n",
       "    }\n",
       "\n",
       "    .dataframe thead th {\n",
       "        text-align: right;\n",
       "    }\n",
       "</style>\n",
       "<table border=\"1\" class=\"dataframe\">\n",
       "  <thead>\n",
       "    <tr style=\"text-align: right;\">\n",
       "      <th></th>\n",
       "      <th>Sales</th>\n",
       "      <th>Order_Quan</th>\n",
       "      <th>Profit</th>\n",
       "      <th>Shipping_Cost</th>\n",
       "      <th>Product_Base_Margin</th>\n",
       "      <th>Cluster</th>\n",
       "    </tr>\n",
       "  </thead>\n",
       "  <tbody>\n",
       "    <tr>\n",
       "      <th>count</th>\n",
       "      <td>1733.000000</td>\n",
       "      <td>1733.000000</td>\n",
       "      <td>1733.000000</td>\n",
       "      <td>1733.000000</td>\n",
       "      <td>1733.000000</td>\n",
       "      <td>1733.0</td>\n",
       "    </tr>\n",
       "    <tr>\n",
       "      <th>mean</th>\n",
       "      <td>8854.202957</td>\n",
       "      <td>32.787074</td>\n",
       "      <td>2513.388575</td>\n",
       "      <td>22.603312</td>\n",
       "      <td>0.592845</td>\n",
       "      <td>0.0</td>\n",
       "    </tr>\n",
       "    <tr>\n",
       "      <th>std</th>\n",
       "      <td>3412.481083</td>\n",
       "      <td>12.444343</td>\n",
       "      <td>1625.736002</td>\n",
       "      <td>6.892565</td>\n",
       "      <td>0.124358</td>\n",
       "      <td>0.0</td>\n",
       "    </tr>\n",
       "    <tr>\n",
       "      <th>min</th>\n",
       "      <td>50.190000</td>\n",
       "      <td>7.000000</td>\n",
       "      <td>-1331.550000</td>\n",
       "      <td>5.000000</td>\n",
       "      <td>0.350000</td>\n",
       "      <td>0.0</td>\n",
       "    </tr>\n",
       "    <tr>\n",
       "      <th>25%</th>\n",
       "      <td>7131.641000</td>\n",
       "      <td>22.000000</td>\n",
       "      <td>1389.180000</td>\n",
       "      <td>18.250000</td>\n",
       "      <td>0.550000</td>\n",
       "      <td>0.0</td>\n",
       "    </tr>\n",
       "    <tr>\n",
       "      <th>50%</th>\n",
       "      <td>8646.641000</td>\n",
       "      <td>33.000000</td>\n",
       "      <td>2860.710000</td>\n",
       "      <td>21.210000</td>\n",
       "      <td>0.580000</td>\n",
       "      <td>0.0</td>\n",
       "    </tr>\n",
       "    <tr>\n",
       "      <th>75%</th>\n",
       "      <td>10474.641000</td>\n",
       "      <td>43.000000</td>\n",
       "      <td>3461.590000</td>\n",
       "      <td>25.000000</td>\n",
       "      <td>0.660000</td>\n",
       "      <td>0.0</td>\n",
       "    </tr>\n",
       "    <tr>\n",
       "      <th>max</th>\n",
       "      <td>20265.220000</td>\n",
       "      <td>58.000000</td>\n",
       "      <td>6279.180000</td>\n",
       "      <td>46.200000</td>\n",
       "      <td>0.850000</td>\n",
       "      <td>0.0</td>\n",
       "    </tr>\n",
       "  </tbody>\n",
       "</table>\n",
       "</div>"
      ],
      "text/plain": [
       "              Sales   Order_Quan       Profit  Shipping_Cost  \\\n",
       "count   1733.000000  1733.000000  1733.000000    1733.000000   \n",
       "mean    8854.202957    32.787074  2513.388575      22.603312   \n",
       "std     3412.481083    12.444343  1625.736002       6.892565   \n",
       "min       50.190000     7.000000 -1331.550000       5.000000   \n",
       "25%     7131.641000    22.000000  1389.180000      18.250000   \n",
       "50%     8646.641000    33.000000  2860.710000      21.210000   \n",
       "75%    10474.641000    43.000000  3461.590000      25.000000   \n",
       "max    20265.220000    58.000000  6279.180000      46.200000   \n",
       "\n",
       "       Product_Base_Margin  Cluster  \n",
       "count          1733.000000   1733.0  \n",
       "mean              0.592845      0.0  \n",
       "std               0.124358      0.0  \n",
       "min               0.350000      0.0  \n",
       "25%               0.550000      0.0  \n",
       "50%               0.580000      0.0  \n",
       "75%               0.660000      0.0  \n",
       "max               0.850000      0.0  "
      ]
     },
     "execution_count": 69,
     "metadata": {},
     "output_type": "execute_result"
    }
   ],
   "source": [
    "# statistical summary of the numerical variables\n",
    "df_prod[df_prod.Cluster==0].describe()"
   ]
  },
  {
   "cell_type": "code",
   "execution_count": 70,
   "metadata": {
    "id": "jxsN95S-ux_B",
    "outputId": "1815d593-7a16-4072-8701-bcbdef0823dd"
   },
   "outputs": [
    {
     "data": {
      "text/html": [
       "<div>\n",
       "<style scoped>\n",
       "    .dataframe tbody tr th:only-of-type {\n",
       "        vertical-align: middle;\n",
       "    }\n",
       "\n",
       "    .dataframe tbody tr th {\n",
       "        vertical-align: top;\n",
       "    }\n",
       "\n",
       "    .dataframe thead th {\n",
       "        text-align: right;\n",
       "    }\n",
       "</style>\n",
       "<table border=\"1\" class=\"dataframe\">\n",
       "  <thead>\n",
       "    <tr style=\"text-align: right;\">\n",
       "      <th></th>\n",
       "      <th>Cust_id</th>\n",
       "      <th>Customer_Segment</th>\n",
       "    </tr>\n",
       "  </thead>\n",
       "  <tbody>\n",
       "    <tr>\n",
       "      <th>count</th>\n",
       "      <td>1733</td>\n",
       "      <td>1733</td>\n",
       "    </tr>\n",
       "    <tr>\n",
       "      <th>unique</th>\n",
       "      <td>964</td>\n",
       "      <td>3</td>\n",
       "    </tr>\n",
       "    <tr>\n",
       "      <th>top</th>\n",
       "      <td>Cust_1445</td>\n",
       "      <td>CORPORATE</td>\n",
       "    </tr>\n",
       "    <tr>\n",
       "      <th>freq</th>\n",
       "      <td>9</td>\n",
       "      <td>688</td>\n",
       "    </tr>\n",
       "  </tbody>\n",
       "</table>\n",
       "</div>"
      ],
      "text/plain": [
       "          Cust_id Customer_Segment\n",
       "count        1733             1733\n",
       "unique        964                3\n",
       "top     Cust_1445        CORPORATE\n",
       "freq            9              688"
      ]
     },
     "execution_count": 70,
     "metadata": {},
     "output_type": "execute_result"
    }
   ],
   "source": [
    "# summary of the categorical variables\n",
    "df_prod[df_prod.Cluster==0].describe(include = object)"
   ]
  },
  {
   "cell_type": "markdown",
   "metadata": {
    "id": "TQiKxvLJux_B"
   },
   "source": [
    "**Interpretation:** The above summary shows that the average sales of the products in this cluster is 8854.20 dollars. On average, the order quantity is 33. The customer with ID `Cust_1445` has placed 9 orders. Approximately 40% of the orders are from corporate companies."
   ]
  },
  {
   "cell_type": "code",
   "execution_count": 71,
   "metadata": {
    "id": "DRUcE1ekux_B",
    "outputId": "1b405e3a-901c-4335-f7e0-1ae0b1acf835",
    "scrolled": false
   },
   "outputs": [
    {
     "data": {
      "text/plain": [
       "TELEPHONES AND COMMUNICATION      862\n",
       "VENDING MACHINE                   220\n",
       "COMPUTER PERIPHERALS              218\n",
       "AIR CONDITIONER                   208\n",
       "COPIERS AND FAX                    60\n",
       "OFFICE MACHINES                    59\n",
       "PAPER                              37\n",
       "BINDERS AND BINDER ACCESSORIES     31\n",
       "LABELS                             20\n",
       "RUBBER BANDS                       17\n",
       "ENVELOPES                           1\n",
       "Name: Products, dtype: int64"
      ]
     },
     "execution_count": 71,
     "metadata": {},
     "output_type": "execute_result"
    }
   ],
   "source": [
    "# check the count of different products belonging to cluster_1\n",
    "df_prod[df_prod.Cluster==0].index.value_counts()"
   ]
  },
  {
   "cell_type": "markdown",
   "metadata": {
    "id": "36ZizpJ5ux_B"
   },
   "source": [
    "**Interpretation:** The above output shows that the majority of the products in this cluster are technical items (telephone and communication, vending machine, computer peripherals and so on). Thus, we can segment this cluster under `Technology`."
   ]
  },
  {
   "cell_type": "markdown",
   "metadata": {
    "id": "D1o_SNw_ux_C"
   },
   "source": [
    "<a id='cluster_2'></a>\n",
    "## 4.2 Analysis of Cluster_2"
   ]
  },
  {
   "cell_type": "markdown",
   "metadata": {
    "id": "tgWc1Wugux_C"
   },
   "source": [
    "#### Check the size of the cluster"
   ]
  },
  {
   "cell_type": "code",
   "execution_count": 72,
   "metadata": {
    "colab": {
     "base_uri": "https://localhost:8080/"
    },
    "id": "78Oom735ux_C",
    "outputId": "a1f2e9c9-2977-4e55-9bf4-b64156e8e6bb"
   },
   "outputs": [
    {
     "data": {
      "text/plain": [
       "3459"
      ]
     },
     "execution_count": 72,
     "metadata": {},
     "output_type": "execute_result"
    }
   ],
   "source": [
    "# size of a cluster_2\n",
    "df_prod['Cluster'].value_counts()[1]"
   ]
  },
  {
   "cell_type": "markdown",
   "metadata": {
    "id": "IA-U89Gwux_C"
   },
   "source": [
    "#### Classify products belonging to the cluster "
   ]
  },
  {
   "cell_type": "code",
   "execution_count": 73,
   "metadata": {
    "colab": {
     "base_uri": "https://localhost:8080/"
    },
    "id": "4EUa7WJlux_C",
    "outputId": "73708a85-4247-4df4-d083-c6eb1d4bf770"
   },
   "outputs": [
    {
     "data": {
      "text/html": [
       "<div>\n",
       "<style scoped>\n",
       "    .dataframe tbody tr th:only-of-type {\n",
       "        vertical-align: middle;\n",
       "    }\n",
       "\n",
       "    .dataframe tbody tr th {\n",
       "        vertical-align: top;\n",
       "    }\n",
       "\n",
       "    .dataframe thead th {\n",
       "        text-align: right;\n",
       "    }\n",
       "</style>\n",
       "<table border=\"1\" class=\"dataframe\">\n",
       "  <thead>\n",
       "    <tr style=\"text-align: right;\">\n",
       "      <th></th>\n",
       "      <th>Cust_id</th>\n",
       "      <th>Sales</th>\n",
       "      <th>Order_Quan</th>\n",
       "      <th>Profit</th>\n",
       "      <th>Shipping_Cost</th>\n",
       "      <th>Product_Base_Margin</th>\n",
       "      <th>Customer_Segment</th>\n",
       "      <th>Cluster</th>\n",
       "    </tr>\n",
       "    <tr>\n",
       "      <th>Products</th>\n",
       "      <th></th>\n",
       "      <th></th>\n",
       "      <th></th>\n",
       "      <th></th>\n",
       "      <th></th>\n",
       "      <th></th>\n",
       "      <th></th>\n",
       "      <th></th>\n",
       "    </tr>\n",
       "  </thead>\n",
       "  <tbody>\n",
       "    <tr>\n",
       "      <th>PAPER</th>\n",
       "      <td>Cust_1659</td>\n",
       "      <td>754.641</td>\n",
       "      <td>13</td>\n",
       "      <td>29.80</td>\n",
       "      <td>8.90</td>\n",
       "      <td>0.37</td>\n",
       "      <td>SMALL BUSINESS</td>\n",
       "      <td>1</td>\n",
       "    </tr>\n",
       "    <tr>\n",
       "      <th>PAPER</th>\n",
       "      <td>Cust_622</td>\n",
       "      <td>572.641</td>\n",
       "      <td>22</td>\n",
       "      <td>92.78</td>\n",
       "      <td>10.99</td>\n",
       "      <td>0.39</td>\n",
       "      <td>SMALL BUSINESS</td>\n",
       "      <td>1</td>\n",
       "    </tr>\n",
       "    <tr>\n",
       "      <th>ENVELOPES</th>\n",
       "      <td>Cust_604</td>\n",
       "      <td>891.641</td>\n",
       "      <td>39</td>\n",
       "      <td>31.41</td>\n",
       "      <td>25.08</td>\n",
       "      <td>0.39</td>\n",
       "      <td>CORPORATE</td>\n",
       "      <td>1</td>\n",
       "    </tr>\n",
       "    <tr>\n",
       "      <th>ENVELOPES</th>\n",
       "      <td>Cust_1056</td>\n",
       "      <td>100.641</td>\n",
       "      <td>26</td>\n",
       "      <td>48.04</td>\n",
       "      <td>21.99</td>\n",
       "      <td>0.39</td>\n",
       "      <td>HOME OFFICE</td>\n",
       "      <td>1</td>\n",
       "    </tr>\n",
       "    <tr>\n",
       "      <th>PENS &amp; ART SUPPLIES</th>\n",
       "      <td>Cust_632</td>\n",
       "      <td>683.641</td>\n",
       "      <td>26</td>\n",
       "      <td>35.82</td>\n",
       "      <td>2.99</td>\n",
       "      <td>0.46</td>\n",
       "      <td>CORPORATE</td>\n",
       "      <td>1</td>\n",
       "    </tr>\n",
       "    <tr>\n",
       "      <th>PENS &amp; ART SUPPLIES</th>\n",
       "      <td>Cust_616</td>\n",
       "      <td>90.641</td>\n",
       "      <td>21</td>\n",
       "      <td>14.54</td>\n",
       "      <td>18.50</td>\n",
       "      <td>0.35</td>\n",
       "      <td>CORPORATE</td>\n",
       "      <td>1</td>\n",
       "    </tr>\n",
       "    <tr>\n",
       "      <th>PENS &amp; ART SUPPLIES</th>\n",
       "      <td>Cust_1155</td>\n",
       "      <td>82.641</td>\n",
       "      <td>17</td>\n",
       "      <td>5.86</td>\n",
       "      <td>7.03</td>\n",
       "      <td>0.59</td>\n",
       "      <td>HOME OFFICE</td>\n",
       "      <td>1</td>\n",
       "    </tr>\n",
       "    <tr>\n",
       "      <th>PENS &amp; ART SUPPLIES</th>\n",
       "      <td>Cust_1335</td>\n",
       "      <td>48.641</td>\n",
       "      <td>9</td>\n",
       "      <td>4.68</td>\n",
       "      <td>3.99</td>\n",
       "      <td>0.47</td>\n",
       "      <td>CORPORATE</td>\n",
       "      <td>1</td>\n",
       "    </tr>\n",
       "    <tr>\n",
       "      <th>ENVELOPES</th>\n",
       "      <td>Cust_944</td>\n",
       "      <td>81.641</td>\n",
       "      <td>14</td>\n",
       "      <td>21.08</td>\n",
       "      <td>22.99</td>\n",
       "      <td>0.37</td>\n",
       "      <td>SMALL BUSINESS</td>\n",
       "      <td>1</td>\n",
       "    </tr>\n",
       "    <tr>\n",
       "      <th>TELEPHONES AND COMMUNICATION</th>\n",
       "      <td>Cust_582</td>\n",
       "      <td>3610.850</td>\n",
       "      <td>36</td>\n",
       "      <td>2235.37</td>\n",
       "      <td>8.99</td>\n",
       "      <td>0.56</td>\n",
       "      <td>SMALL BUSINESS</td>\n",
       "      <td>1</td>\n",
       "    </tr>\n",
       "  </tbody>\n",
       "</table>\n",
       "</div>"
      ],
      "text/plain": [
       "                                Cust_id     Sales  Order_Quan   Profit  \\\n",
       "Products                                                                 \n",
       "PAPER                         Cust_1659   754.641          13    29.80   \n",
       "PAPER                          Cust_622   572.641          22    92.78   \n",
       "ENVELOPES                      Cust_604   891.641          39    31.41   \n",
       "ENVELOPES                     Cust_1056   100.641          26    48.04   \n",
       "PENS & ART SUPPLIES            Cust_632   683.641          26    35.82   \n",
       "PENS & ART SUPPLIES            Cust_616    90.641          21    14.54   \n",
       "PENS & ART SUPPLIES           Cust_1155    82.641          17     5.86   \n",
       "PENS & ART SUPPLIES           Cust_1335    48.641           9     4.68   \n",
       "ENVELOPES                      Cust_944    81.641          14    21.08   \n",
       "TELEPHONES AND COMMUNICATION   Cust_582  3610.850          36  2235.37   \n",
       "\n",
       "                              Shipping_Cost  Product_Base_Margin  \\\n",
       "Products                                                           \n",
       "PAPER                                  8.90                 0.37   \n",
       "PAPER                                 10.99                 0.39   \n",
       "ENVELOPES                             25.08                 0.39   \n",
       "ENVELOPES                             21.99                 0.39   \n",
       "PENS & ART SUPPLIES                    2.99                 0.46   \n",
       "PENS & ART SUPPLIES                   18.50                 0.35   \n",
       "PENS & ART SUPPLIES                    7.03                 0.59   \n",
       "PENS & ART SUPPLIES                    3.99                 0.47   \n",
       "ENVELOPES                             22.99                 0.37   \n",
       "TELEPHONES AND COMMUNICATION           8.99                 0.56   \n",
       "\n",
       "                             Customer_Segment  Cluster  \n",
       "Products                                                \n",
       "PAPER                          SMALL BUSINESS        1  \n",
       "PAPER                          SMALL BUSINESS        1  \n",
       "ENVELOPES                           CORPORATE        1  \n",
       "ENVELOPES                         HOME OFFICE        1  \n",
       "PENS & ART SUPPLIES                 CORPORATE        1  \n",
       "PENS & ART SUPPLIES                 CORPORATE        1  \n",
       "PENS & ART SUPPLIES               HOME OFFICE        1  \n",
       "PENS & ART SUPPLIES                 CORPORATE        1  \n",
       "ENVELOPES                      SMALL BUSINESS        1  \n",
       "TELEPHONES AND COMMUNICATION   SMALL BUSINESS        1  "
      ]
     },
     "execution_count": 73,
     "metadata": {},
     "output_type": "execute_result"
    }
   ],
   "source": [
    "# first 10 products in the cluster_2\n",
    "df_prod[df_prod.Cluster == 1].head(10)"
   ]
  },
  {
   "cell_type": "markdown",
   "metadata": {
    "id": "SIT-ZzLIux_D"
   },
   "source": [
    "#### Compute the statistical summary for the products in this cluster"
   ]
  },
  {
   "cell_type": "code",
   "execution_count": 74,
   "metadata": {
    "colab": {
     "base_uri": "https://localhost:8080/"
    },
    "id": "MmC50v3oux_D",
    "outputId": "49a283d3-de20-4292-df28-373a77fcfc58",
    "scrolled": true
   },
   "outputs": [
    {
     "data": {
      "text/html": [
       "<div>\n",
       "<style scoped>\n",
       "    .dataframe tbody tr th:only-of-type {\n",
       "        vertical-align: middle;\n",
       "    }\n",
       "\n",
       "    .dataframe tbody tr th {\n",
       "        vertical-align: top;\n",
       "    }\n",
       "\n",
       "    .dataframe thead th {\n",
       "        text-align: right;\n",
       "    }\n",
       "</style>\n",
       "<table border=\"1\" class=\"dataframe\">\n",
       "  <thead>\n",
       "    <tr style=\"text-align: right;\">\n",
       "      <th></th>\n",
       "      <th>Sales</th>\n",
       "      <th>Order_Quan</th>\n",
       "      <th>Profit</th>\n",
       "      <th>Shipping_Cost</th>\n",
       "      <th>Product_Base_Margin</th>\n",
       "      <th>Cluster</th>\n",
       "    </tr>\n",
       "  </thead>\n",
       "  <tbody>\n",
       "    <tr>\n",
       "      <th>count</th>\n",
       "      <td>3459.000000</td>\n",
       "      <td>3459.000000</td>\n",
       "      <td>3459.000000</td>\n",
       "      <td>3459.000000</td>\n",
       "      <td>3459.000000</td>\n",
       "      <td>3459.0</td>\n",
       "    </tr>\n",
       "    <tr>\n",
       "      <th>mean</th>\n",
       "      <td>634.822022</td>\n",
       "      <td>24.934374</td>\n",
       "      <td>71.191026</td>\n",
       "      <td>6.036210</td>\n",
       "      <td>0.430624</td>\n",
       "      <td>1.0</td>\n",
       "    </tr>\n",
       "    <tr>\n",
       "      <th>std</th>\n",
       "      <td>1215.828643</td>\n",
       "      <td>14.447429</td>\n",
       "      <td>423.035589</td>\n",
       "      <td>5.466886</td>\n",
       "      <td>0.106220</td>\n",
       "      <td>0.0</td>\n",
       "    </tr>\n",
       "    <tr>\n",
       "      <th>min</th>\n",
       "      <td>3.420000</td>\n",
       "      <td>1.000000</td>\n",
       "      <td>-3061.820000</td>\n",
       "      <td>0.490000</td>\n",
       "      <td>0.350000</td>\n",
       "      <td>1.0</td>\n",
       "    </tr>\n",
       "    <tr>\n",
       "      <th>25%</th>\n",
       "      <td>82.030000</td>\n",
       "      <td>12.000000</td>\n",
       "      <td>-47.150000</td>\n",
       "      <td>1.490000</td>\n",
       "      <td>0.370000</td>\n",
       "      <td>1.0</td>\n",
       "    </tr>\n",
       "    <tr>\n",
       "      <th>50%</th>\n",
       "      <td>192.580000</td>\n",
       "      <td>25.000000</td>\n",
       "      <td>-1.060000</td>\n",
       "      <td>5.270000</td>\n",
       "      <td>0.380000</td>\n",
       "      <td>1.0</td>\n",
       "    </tr>\n",
       "    <tr>\n",
       "      <th>75%</th>\n",
       "      <td>495.825000</td>\n",
       "      <td>37.000000</td>\n",
       "      <td>55.650000</td>\n",
       "      <td>7.780000</td>\n",
       "      <td>0.440000</td>\n",
       "      <td>1.0</td>\n",
       "    </tr>\n",
       "    <tr>\n",
       "      <th>max</th>\n",
       "      <td>10791.380000</td>\n",
       "      <td>50.000000</td>\n",
       "      <td>2595.180000</td>\n",
       "      <td>26.000000</td>\n",
       "      <td>0.850000</td>\n",
       "      <td>1.0</td>\n",
       "    </tr>\n",
       "  </tbody>\n",
       "</table>\n",
       "</div>"
      ],
      "text/plain": [
       "              Sales   Order_Quan       Profit  Shipping_Cost  \\\n",
       "count   3459.000000  3459.000000  3459.000000    3459.000000   \n",
       "mean     634.822022    24.934374    71.191026       6.036210   \n",
       "std     1215.828643    14.447429   423.035589       5.466886   \n",
       "min        3.420000     1.000000 -3061.820000       0.490000   \n",
       "25%       82.030000    12.000000   -47.150000       1.490000   \n",
       "50%      192.580000    25.000000    -1.060000       5.270000   \n",
       "75%      495.825000    37.000000    55.650000       7.780000   \n",
       "max    10791.380000    50.000000  2595.180000      26.000000   \n",
       "\n",
       "       Product_Base_Margin  Cluster  \n",
       "count          3459.000000   3459.0  \n",
       "mean              0.430624      1.0  \n",
       "std               0.106220      0.0  \n",
       "min               0.350000      1.0  \n",
       "25%               0.370000      1.0  \n",
       "50%               0.380000      1.0  \n",
       "75%               0.440000      1.0  \n",
       "max               0.850000      1.0  "
      ]
     },
     "execution_count": 74,
     "metadata": {},
     "output_type": "execute_result"
    }
   ],
   "source": [
    "# statistical summary of the numerical variables\n",
    "df_prod[df_prod.Cluster==1].describe()"
   ]
  },
  {
   "cell_type": "code",
   "execution_count": 75,
   "metadata": {
    "id": "K5rebtHnux_D",
    "outputId": "53678a89-aad0-4bcc-986b-a3b11dc5118a"
   },
   "outputs": [
    {
     "data": {
      "text/html": [
       "<div>\n",
       "<style scoped>\n",
       "    .dataframe tbody tr th:only-of-type {\n",
       "        vertical-align: middle;\n",
       "    }\n",
       "\n",
       "    .dataframe tbody tr th {\n",
       "        vertical-align: top;\n",
       "    }\n",
       "\n",
       "    .dataframe thead th {\n",
       "        text-align: right;\n",
       "    }\n",
       "</style>\n",
       "<table border=\"1\" class=\"dataframe\">\n",
       "  <thead>\n",
       "    <tr style=\"text-align: right;\">\n",
       "      <th></th>\n",
       "      <th>Cust_id</th>\n",
       "      <th>Customer_Segment</th>\n",
       "    </tr>\n",
       "  </thead>\n",
       "  <tbody>\n",
       "    <tr>\n",
       "      <th>count</th>\n",
       "      <td>3459</td>\n",
       "      <td>3459</td>\n",
       "    </tr>\n",
       "    <tr>\n",
       "      <th>unique</th>\n",
       "      <td>1385</td>\n",
       "      <td>3</td>\n",
       "    </tr>\n",
       "    <tr>\n",
       "      <th>top</th>\n",
       "      <td>Cust_1337</td>\n",
       "      <td>CORPORATE</td>\n",
       "    </tr>\n",
       "    <tr>\n",
       "      <th>freq</th>\n",
       "      <td>14</td>\n",
       "      <td>1577</td>\n",
       "    </tr>\n",
       "  </tbody>\n",
       "</table>\n",
       "</div>"
      ],
      "text/plain": [
       "          Cust_id Customer_Segment\n",
       "count        3459             3459\n",
       "unique       1385                3\n",
       "top     Cust_1337        CORPORATE\n",
       "freq           14             1577"
      ]
     },
     "execution_count": 75,
     "metadata": {},
     "output_type": "execute_result"
    }
   ],
   "source": [
    "# summary of the categorical variables\n",
    "df_prod[df_prod.Cluster==1].describe(include = object)"
   ]
  },
  {
   "cell_type": "markdown",
   "metadata": {
    "id": "0NDat_6xux_D"
   },
   "source": [
    "**Interpretation:** The above summary shows that the average sales of the products in this cluster is 634.44 dollars. On average, the order quantity is 25. The customer with ID `Cust_1337` has placed 14 orders in the last year. Approximately 46% of the orders are from corporate companies."
   ]
  },
  {
   "cell_type": "code",
   "execution_count": 76,
   "metadata": {
    "id": "lcK0-nnPux_D",
    "outputId": "57e712c6-7caf-4404-e205-6606307e7506",
    "scrolled": false
   },
   "outputs": [
    {
     "data": {
      "text/plain": [
       "PAPER                             1045\n",
       "BINDERS AND BINDER ACCESSORIES     811\n",
       "PENS & ART SUPPLIES                525\n",
       "LABELS                             301\n",
       "RUBBER BANDS                       293\n",
       "ENVELOPES                          242\n",
       "COMPUTER PERIPHERALS                88\n",
       "AIR CONDITIONER                     60\n",
       "VENDING MACHINE                     52\n",
       "OFFICE MACHINES                     19\n",
       "TELEPHONES AND COMMUNICATION        14\n",
       "COPIERS AND FAX                      9\n",
       "Name: Products, dtype: int64"
      ]
     },
     "execution_count": 76,
     "metadata": {},
     "output_type": "execute_result"
    }
   ],
   "source": [
    "# check the count of different products belonging to cluster_2\n",
    "df_prod[df_prod.Cluster==1].index.value_counts()"
   ]
  },
  {
   "cell_type": "markdown",
   "metadata": {
    "id": "axF8wn2Oux_E"
   },
   "source": [
    "**Interpretation:** The above output shows that the majority of the products in this cluster are stationary items (paper, pen and art supplies, binders and bineder accessories and so on). Thus, we can segment this cluster under `Stationary`."
   ]
  },
  {
   "cell_type": "markdown",
   "metadata": {
    "id": "SB1u3MzKux_E"
   },
   "source": [
    "<a id='DBSCAN'></a>\n",
    "# 5. DBSCAN"
   ]
  },
  {
   "cell_type": "markdown",
   "metadata": {
    "id": "BtlO85U3ux_E"
   },
   "source": [
    "DBSCAN is a density-based clustering method. It can create non-linear clusters. This method considers a high-density region as a cluster and the low-density points are considered as outliers. We do not need to provide the required number of clusters to the algorithm.\n",
    "\n",
    "Let us cluster the scaled data."
   ]
  },
  {
   "cell_type": "code",
   "execution_count": 77,
   "metadata": {
    "id": "Ac5a0Hadux_E",
    "outputId": "046b9388-a665-49a9-fb0f-ec60f2525b2e"
   },
   "outputs": [
    {
     "data": {
      "text/plain": [
       "DBSCAN(eps=0.8, min_samples=15)"
      ]
     },
     "execution_count": 77,
     "metadata": {},
     "output_type": "execute_result"
    }
   ],
   "source": [
    "# instantiate DBSCAN with epsilon and minimum points \n",
    "# pass the epsilon radius for neighbourhood\n",
    "# pass the number of minimum points\n",
    "model = DBSCAN(eps = 0.8, min_samples = 15)\n",
    "\n",
    "# fit the model on the scaled data\n",
    "model.fit(features_scaled)"
   ]
  },
  {
   "cell_type": "code",
   "execution_count": 78,
   "metadata": {
    "id": "T-P8gk4Wux_F",
    "outputId": "473963da-0fbe-441f-fd1e-bb0021efa00c"
   },
   "outputs": [
    {
     "data": {
      "text/plain": [
       "{-1, 0, 1, 2}"
      ]
     },
     "execution_count": 78,
     "metadata": {},
     "output_type": "execute_result"
    }
   ],
   "source": [
    "# display the unique clusters formed by DBSCAN\n",
    "(set(model.labels_))"
   ]
  },
  {
   "cell_type": "markdown",
   "metadata": {
    "id": "qUF6bZFWux_F"
   },
   "source": [
    "**Interpretation**: From the above output we can see that the DBSCAN algorithm has created 3 clusters. The data points labeled as `-1` are the `outliers` identified by DBSCAN."
   ]
  },
  {
   "cell_type": "code",
   "execution_count": 79,
   "metadata": {
    "id": "wh5Obg8Iux_F",
    "outputId": "b3ad1e5e-5d54-48e4-c4fc-7bd3f01dbaea"
   },
   "outputs": [
    {
     "data": {
      "text/html": [
       "<div>\n",
       "<style scoped>\n",
       "    .dataframe tbody tr th:only-of-type {\n",
       "        vertical-align: middle;\n",
       "    }\n",
       "\n",
       "    .dataframe tbody tr th {\n",
       "        vertical-align: top;\n",
       "    }\n",
       "\n",
       "    .dataframe thead th {\n",
       "        text-align: right;\n",
       "    }\n",
       "</style>\n",
       "<table border=\"1\" class=\"dataframe\">\n",
       "  <thead>\n",
       "    <tr style=\"text-align: right;\">\n",
       "      <th></th>\n",
       "      <th>Cust_id</th>\n",
       "      <th>Sales</th>\n",
       "      <th>Order_Quan</th>\n",
       "      <th>Profit</th>\n",
       "      <th>Shipping_Cost</th>\n",
       "      <th>Product_Base_Margin</th>\n",
       "      <th>Customer_Segment</th>\n",
       "      <th>Cluster</th>\n",
       "      <th>Cluster_DBSCAN</th>\n",
       "    </tr>\n",
       "    <tr>\n",
       "      <th>Products</th>\n",
       "      <th></th>\n",
       "      <th></th>\n",
       "      <th></th>\n",
       "      <th></th>\n",
       "      <th></th>\n",
       "      <th></th>\n",
       "      <th></th>\n",
       "      <th></th>\n",
       "      <th></th>\n",
       "    </tr>\n",
       "  </thead>\n",
       "  <tbody>\n",
       "    <tr>\n",
       "      <th>COPIERS AND FAX</th>\n",
       "      <td>Cust_1088</td>\n",
       "      <td>10909.641</td>\n",
       "      <td>40</td>\n",
       "      <td>2616.46</td>\n",
       "      <td>22.00</td>\n",
       "      <td>0.57</td>\n",
       "      <td>HOME OFFICE</td>\n",
       "      <td>0</td>\n",
       "      <td>0</td>\n",
       "    </tr>\n",
       "    <tr>\n",
       "      <th>COPIERS AND FAX</th>\n",
       "      <td>Cust_1820</td>\n",
       "      <td>10607.641</td>\n",
       "      <td>27</td>\n",
       "      <td>2977.36</td>\n",
       "      <td>23.69</td>\n",
       "      <td>0.56</td>\n",
       "      <td>CORPORATE</td>\n",
       "      <td>0</td>\n",
       "      <td>0</td>\n",
       "    </tr>\n",
       "    <tr>\n",
       "      <th>PAPER</th>\n",
       "      <td>Cust_1659</td>\n",
       "      <td>754.641</td>\n",
       "      <td>13</td>\n",
       "      <td>29.80</td>\n",
       "      <td>8.90</td>\n",
       "      <td>0.37</td>\n",
       "      <td>SMALL BUSINESS</td>\n",
       "      <td>1</td>\n",
       "      <td>0</td>\n",
       "    </tr>\n",
       "    <tr>\n",
       "      <th>PAPER</th>\n",
       "      <td>Cust_622</td>\n",
       "      <td>572.641</td>\n",
       "      <td>22</td>\n",
       "      <td>92.78</td>\n",
       "      <td>10.99</td>\n",
       "      <td>0.39</td>\n",
       "      <td>SMALL BUSINESS</td>\n",
       "      <td>1</td>\n",
       "      <td>0</td>\n",
       "    </tr>\n",
       "    <tr>\n",
       "      <th>OFFICE MACHINES</th>\n",
       "      <td>Cust_564</td>\n",
       "      <td>10128.641</td>\n",
       "      <td>50</td>\n",
       "      <td>5133.68</td>\n",
       "      <td>20.50</td>\n",
       "      <td>0.36</td>\n",
       "      <td>SMALL BUSINESS</td>\n",
       "      <td>0</td>\n",
       "      <td>0</td>\n",
       "    </tr>\n",
       "  </tbody>\n",
       "</table>\n",
       "</div>"
      ],
      "text/plain": [
       "                   Cust_id      Sales  Order_Quan   Profit  Shipping_Cost  \\\n",
       "Products                                                                    \n",
       "COPIERS AND FAX  Cust_1088  10909.641          40  2616.46          22.00   \n",
       "COPIERS AND FAX  Cust_1820  10607.641          27  2977.36          23.69   \n",
       "PAPER            Cust_1659    754.641          13    29.80           8.90   \n",
       "PAPER             Cust_622    572.641          22    92.78          10.99   \n",
       "OFFICE MACHINES   Cust_564  10128.641          50  5133.68          20.50   \n",
       "\n",
       "                 Product_Base_Margin Customer_Segment  Cluster  Cluster_DBSCAN  \n",
       "Products                                                                        \n",
       "COPIERS AND FAX                 0.57      HOME OFFICE        0               0  \n",
       "COPIERS AND FAX                 0.56        CORPORATE        0               0  \n",
       "PAPER                           0.37   SMALL BUSINESS        1               0  \n",
       "PAPER                           0.39   SMALL BUSINESS        1               0  \n",
       "OFFICE MACHINES                 0.36   SMALL BUSINESS        0               0  "
      ]
     },
     "execution_count": 79,
     "metadata": {},
     "output_type": "execute_result"
    }
   ],
   "source": [
    "# add a column containing cluster number to the original data\n",
    "df_prod['Cluster_DBSCAN'] = model.labels_\n",
    "\n",
    "# print head() of the newly formed dataframe\n",
    "df_prod.head()"
   ]
  },
  {
   "cell_type": "markdown",
   "metadata": {
    "id": "y5pUAWRNux_F"
   },
   "source": [
    "Check the size of each cluster."
   ]
  },
  {
   "cell_type": "code",
   "execution_count": 80,
   "metadata": {
    "colab": {
     "base_uri": "https://localhost:8080/",
     "height": 51
    },
    "id": "CMpWs-B0ux_G",
    "outputId": "2a04430a-69d2-4b49-e7cf-ba9c44240793",
    "scrolled": true
   },
   "outputs": [
    {
     "data": {
      "text/plain": [
       " 0    4875\n",
       "-1     271\n",
       " 1      27\n",
       " 2      19\n",
       "Name: Cluster_DBSCAN, dtype: int64"
      ]
     },
     "execution_count": 80,
     "metadata": {},
     "output_type": "execute_result"
    }
   ],
   "source": [
    "# check the size of each cluster\n",
    "df_prod['Cluster_DBSCAN'].value_counts()"
   ]
  },
  {
   "cell_type": "code",
   "execution_count": 81,
   "metadata": {
    "colab": {
     "base_uri": "https://localhost:8080/",
     "height": 279
    },
    "id": "kk9IpCOeux_G",
    "outputId": "a34261f5-38b5-4d64-b7d9-76ad8d392181"
   },
   "outputs": [
    {
     "data": {
      "image/png": "[encoded data removed]",
      "text/plain": [
       "<Figure size 1080x576 with 1 Axes>"
      ]
     },
     "metadata": {
      "needs_background": "light"
     },
     "output_type": "display_data"
    }
   ],
   "source": [
    "# plot the countplot for the cluster size\n",
    "sns.countplot(data = df_prod, x = 'Cluster_DBSCAN')\n",
    "\n",
    "# set the axes and plot labels\n",
    "# set the font size using 'fontsize'\n",
    "plt.title('Size of Cluster', fontsize = 15)\n",
    "plt.xlabel('Cluster', fontsize = 15)\n",
    "plt.ylabel('No. of Products', fontsize = 15)\n",
    "\n",
    "# display the plot\n",
    "plt.show()"
   ]
  },
  {
   "cell_type": "markdown",
   "metadata": {
    "id": "3mCVXCKxux_G"
   },
   "source": [
    "**Interpretation**: From the above output we can see that a cluster with 4875 is the largest cluster and other clusters are very small. "
   ]
  },
  {
   "cell_type": "markdown",
   "metadata": {
    "id": "b8YmcslYux_G"
   },
   "source": [
    "Now let us visualize the clusters. As we have more than 2 features, we consider only the variables `Sales` and `Profit` to visualize the clusters."
   ]
  },
  {
   "cell_type": "code",
   "execution_count": 82,
   "metadata": {
    "id": "hMc71eayux_G",
    "outputId": "dbbeb50b-788f-476d-f5e4-6cc499002490"
   },
   "outputs": [
    {
     "data": {
      "image/png": "[encoded data removed]",
      "text/plain": [
       "<Figure size 954.5x864 with 1 Axes>"
      ]
     },
     "metadata": {
      "needs_background": "light"
     },
     "output_type": "display_data"
    }
   ],
   "source": [
    "# plot the lmplot to visualize the clusters\n",
    "# pass the 'Cluster_DBSCAN' to the hue parameter to display each cluster in a different color\n",
    "# pass the different marker styles to visualize each cluster with a different marker\n",
    "sns.lmplot(x = 'Sales', y = 'Profit', data = df_prod, hue = 'Cluster_DBSCAN', markers = ['o','+','^',','], \n",
    "           fit_reg = False, size = 12)\n",
    "\n",
    "# set the axes and plot labels\n",
    "# set the font size using 'fontsize'\n",
    "plt.title('DBSCABN (eps = 0.8, min_samples = 15) ', fontsize = 15)\n",
    "plt.xlabel('Sales', fontsize = 15)\n",
    "plt.ylabel('Profit', fontsize = 15)\n",
    "\n",
    "# display the plot\n",
    "plt.show()"
   ]
  },
  {
   "cell_type": "markdown",
   "metadata": {
    "id": "orAiLwS4ux_G"
   },
   "source": [
    "**Interpretation:** The above plot shows the clusters created by DBSCAN. The blue circles correspond to the outliers and the observations in the largest cluster are denoted by the orange '+'. Other clusters are too small compared to the largest cluster.\n",
    "\n",
    "We can see some of the points are overlapped. This is because the dimension of the original data is greater than 2 and we have considered only 2 variables to plot the clusters.\n",
    "\n",
    "Now let us check the products belonging to each cluster."
   ]
  },
  {
   "cell_type": "markdown",
   "metadata": {
    "id": "YnqV1645ux_G"
   },
   "source": [
    "### Cluster 1"
   ]
  },
  {
   "cell_type": "markdown",
   "metadata": {
    "id": "_AqA_J1Mux_H"
   },
   "source": [
    "Let us identify the products in the cluster 1."
   ]
  },
  {
   "cell_type": "code",
   "execution_count": 83,
   "metadata": {
    "id": "XKNpi-weux_H",
    "outputId": "e9cd1d87-2261-4978-a87f-b2c48e7cd0d2"
   },
   "outputs": [
    {
     "data": {
      "text/plain": [
       "PAPER                             1080\n",
       "TELEPHONES AND COMMUNICATION       860\n",
       "BINDERS AND BINDER ACCESSORIES     830\n",
       "PENS & ART SUPPLIES                524\n",
       "LABELS                             313\n",
       "RUBBER BANDS                       294\n",
       "VENDING MACHINE                    245\n",
       "ENVELOPES                          242\n",
       "AIR CONDITIONER                    232\n",
       "COMPUTER PERIPHERALS               175\n",
       "COPIERS AND FAX                     56\n",
       "OFFICE MACHINES                     24\n",
       "Name: Products, dtype: int64"
      ]
     },
     "execution_count": 83,
     "metadata": {},
     "output_type": "execute_result"
    }
   ],
   "source": [
    "# check the count of different products belonging to cluster_1\n",
    "df_prod[df_prod.Cluster_DBSCAN==0].index.value_counts()"
   ]
  },
  {
   "cell_type": "markdown",
   "metadata": {
    "id": "k2AH1p3Nux_H"
   },
   "source": [
    "**Interpretation**: We can see that the 1st cluster with 4875 observations contains stationary as well as technical products. Thus we can segment this cluster as 'Basket Class'."
   ]
  },
  {
   "cell_type": "markdown",
   "metadata": {
    "id": "c7NmyQG1ux_H"
   },
   "source": [
    "### Cluster 2"
   ]
  },
  {
   "cell_type": "markdown",
   "metadata": {
    "id": "Zvjm1g18ux_H"
   },
   "source": [
    "Let us identify the products in the cluster 2."
   ]
  },
  {
   "cell_type": "code",
   "execution_count": 84,
   "metadata": {
    "id": "SdOUEWmtux_H",
    "outputId": "c8fa6441-aa8c-4dc9-a3a7-8be516578a1b"
   },
   "outputs": [
    {
     "data": {
      "text/plain": [
       "OFFICE MACHINES         15\n",
       "COPIERS AND FAX          7\n",
       "COMPUTER PERIPHERALS     4\n",
       "LABELS                   1\n",
       "Name: Products, dtype: int64"
      ]
     },
     "execution_count": 84,
     "metadata": {},
     "output_type": "execute_result"
    }
   ],
   "source": [
    "# check the count of different products belonging to cluster_2\n",
    "df_prod[df_prod.Cluster_DBSCAN==1].index.value_counts()"
   ]
  },
  {
   "cell_type": "markdown",
   "metadata": {
    "id": "H1YdxD9Vux_H"
   },
   "source": [
    "**Interpretation**: We can see that the 2nd cluster with 27 observations contains 26 technical products. Thus we can segment this cluster under 'Technology'."
   ]
  },
  {
   "cell_type": "markdown",
   "metadata": {
    "id": "mc-phUNEux_H"
   },
   "source": [
    "### Cluster 3"
   ]
  },
  {
   "cell_type": "markdown",
   "metadata": {
    "id": "Hxprf-rtux_I"
   },
   "source": [
    "Let us identify the products in the cluster 3."
   ]
  },
  {
   "cell_type": "code",
   "execution_count": 85,
   "metadata": {
    "id": "Dy2-uPEqux_I",
    "outputId": "beb7205a-0cde-478c-eca3-f25f51f3d8c1"
   },
   "outputs": [
    {
     "data": {
      "text/plain": [
       "RUBBER BANDS            15\n",
       "COMPUTER PERIPHERALS     4\n",
       "Name: Products, dtype: int64"
      ]
     },
     "execution_count": 85,
     "metadata": {},
     "output_type": "execute_result"
    }
   ],
   "source": [
    "# check the count of different products belonging to cluster_3\n",
    "df_prod[df_prod.Cluster_DBSCAN==2].index.value_counts()"
   ]
  },
  {
   "cell_type": "markdown",
   "metadata": {
    "id": "zK_X7Fa5ux_I"
   },
   "source": [
    "**Interpretation**: We can see that the 3rd cluster with 19 observations contains 15 statinary products. Thus we can segment this cluster under 'Stationary'."
   ]
  },
  {
   "cell_type": "markdown",
   "metadata": {
    "id": "MRI3FxuPux_I"
   },
   "source": [
    "### Outliers identified by DBSCAN"
   ]
  },
  {
   "cell_type": "code",
   "execution_count": 86,
   "metadata": {
    "id": "4jt6mTQ_ux_I",
    "outputId": "1bbeecb6-8eae-4402-a0b3-4fa9f87db106"
   },
   "outputs": [
    {
     "data": {
      "text/plain": [
       "COMPUTER PERIPHERALS              123\n",
       "OFFICE MACHINES                    39\n",
       "AIR CONDITIONER                    36\n",
       "VENDING MACHINE                    27\n",
       "TELEPHONES AND COMMUNICATION       16\n",
       "BINDERS AND BINDER ACCESSORIES     12\n",
       "LABELS                              7\n",
       "COPIERS AND FAX                     6\n",
       "PAPER                               2\n",
       "PENS & ART SUPPLIES                 1\n",
       "ENVELOPES                           1\n",
       "RUBBER BANDS                        1\n",
       "Name: Products, dtype: int64"
      ]
     },
     "execution_count": 86,
     "metadata": {},
     "output_type": "execute_result"
    }
   ],
   "source": [
    "# check the count of different products identified as outliers\n",
    "df_prod[df_prod.Cluster_DBSCAN==-1].index.value_counts()"
   ]
  },
  {
   "cell_type": "markdown",
   "metadata": {
    "id": "xyV-oacPux_I"
   },
   "source": [
    "**Interpretation**: We can see that the algorithm has identified most of the technical products as the outliers."
   ]
  },
  {
   "cell_type": "markdown",
   "metadata": {
    "id": "609kHGP-ux_I"
   },
   "source": [
    "Here we can see that the DBSCAN algorithm has not grouped the product like hierarchical clustering. Thus we can conclude that the DBSCAN algorithm is working poorly on this dataset."
   ]
  }
 ],
 "metadata": {
  "colab": {
   "name": "USL - Faculty Notebook (Day 2) [v1.0 - 280121] .ipynb",
   "provenance": []
  },
  "kernelspec": {
   "display_name": "Python 3 (ipykernel)",
   "language": "python",
   "name": "python3"
  },
  "language_info": {
   "codemirror_mode": {
    "name": "ipython",
    "version": 3
   },
   "file_extension": ".py",
   "mimetype": "text/x-python",
   "name": "python",
   "nbconvert_exporter": "python",
   "pygments_lexer": "ipython3",
   "version": "3.9.7"
  }
 },
 "nbformat": 4,
 "nbformat_minor": 1
}
